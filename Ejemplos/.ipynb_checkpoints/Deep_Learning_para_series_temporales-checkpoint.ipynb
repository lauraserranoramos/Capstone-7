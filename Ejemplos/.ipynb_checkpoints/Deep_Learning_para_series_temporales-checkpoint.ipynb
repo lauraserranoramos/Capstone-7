{
  "nbformat": 4,
  "nbformat_minor": 0,
  "metadata": {
    "kernelspec": {
      "display_name": "Python 3",
      "language": "python",
      "name": "python3"
    },
    "language_info": {
      "codemirror_mode": {
        "name": "ipython",
        "version": 3
      },
      "file_extension": ".py",
      "mimetype": "text/x-python",
      "name": "python",
      "nbconvert_exporter": "python",
      "pygments_lexer": "ipython3",
      "version": "3.8.8"
    },
    "colab": {
      "provenance": [],
      "toc_visible": true
    },
    "accelerator": "GPU"
  },
  "cells": [
    {
      "cell_type": "markdown",
      "metadata": {
        "id": "WlYGCzw6v94l"
      },
      "source": [
        "<img src=\"http://www.cidaen.es/assets/img/mCIDaeNnb.png\" alt=\"Logo CiDAEN\" align=\"right\">\n",
        "\n",
        "\n",
        "\n",
        "\n",
        "<br><br><br>\n",
        "<h2><font color=\"#00586D\" size=4>Módulo 7</font></h2>\n",
        "\n",
        "\n",
        "\n",
        "<h1><font color=\"#00586D\" size=5>Deep Learning y series temporales con TensorFlow</font></h1>\n",
        "\n",
        "<br><br><br>\n",
        "<div style=\"text-align: right\">\n",
        "<font color=\"#00586D\" size=3>Cristina Romero González</font><br>\n",
        "<font color=\"#00586D\" size=3>Máster en Ciencia de Datos e Ingeniería de Datos en la Nube III</font><br>\n",
        "<font color=\"#00586D\" size=3>Universidad de Castilla-La Mancha</font>\n",
        "\n",
        "</div>"
      ]
    },
    {
      "cell_type": "markdown",
      "metadata": {
        "id": "C0n2_AhRv94t"
      },
      "source": [
        "---\n",
        "\n",
        "<a id=\"indice\"></a>\n",
        "<h2><font color=\"#00586D\" size=5>Índice</font></h2>\n",
        "\n",
        "\n",
        "* [1. Introducción](#section1)\n",
        "    * [Dataset: Predicción del tiempo](#section11)\n",
        "    * [Análisis de los datos de entrada](#section12)\n",
        "    * [Preprocesamiento](#section13)\n",
        "* [2. Ventana temporal](#section2)\n",
        "* [3. Pronóstico de un único instante de tiempo](#section3)\n",
        "    * [Modelo lineal](#section31)\n",
        "    * [Red densa](#section32)\n",
        "    * [Red convolucional](#section33)\n",
        "    * [Red recurrente](#section34)\n",
        "    * [Comparativa](#section35)\n",
        "* [4. Pronóstico de varios instantes de tiempo](#section4)\n",
        "    * [Predicción única](#section41)\n",
        "    * [Predicción autorregresiva](#section42)\n",
        "    * [Comparativa](#section43)\n"
      ]
    },
    {
      "cell_type": "code",
      "metadata": {
        "id": "pVI-LA5bv94u"
      },
      "source": [
        "import numpy as np\n",
        "import pandas as pd\n",
        "import matplotlib.pyplot as plt\n",
        "import seaborn as sns\n",
        "import tensorflow as tf\n",
        "\n",
        "import IPython\n",
        "import IPython.display\n",
        "\n",
        "# Optimiza los gráficos para pantalla retina\n",
        "%config InlineBackend.figure_format = 'retina'\n",
        "# Por defecto usamos el backend inline\n",
        "%matplotlib inline\n",
        "plt.rcParams[\"figure.figsize\"] = (12, 9) # (w, h)\n",
        "plt.rcParams[\"axes.grid\"] = False\n",
        "\n",
        "# Oculta warnings\n",
        "#import warnings\n",
        "#warnings.simplefilter('ignore')"
      ],
      "execution_count": null,
      "outputs": []
    },
    {
      "cell_type": "markdown",
      "metadata": {
        "id": "vJ0UGDXHv94v"
      },
      "source": [
        "---\n",
        "\n",
        "<a id=\"section1\"></a>\n",
        "## <font color=\"#00586D\"> 1. Introducción</font>\n",
        "<br>"
      ]
    },
    {
      "cell_type": "markdown",
      "metadata": {
        "id": "WXH-NRa6v94v"
      },
      "source": [
        "En este tutorial veremos una introcucción al pronóstico de series temporales utilizando TensorFlow. Construiremos distintas redes incluyendo redes densas, CNNs y RNNs.\n",
        "\n",
        "El tutorial está divido en dos partes: pronóstico de un único instante de tiempo y pronóstico de múltiples instantes. \n",
        "\n",
        "---\n",
        "\n",
        "<a id=\"section11\"></a>\n",
        "### <font color=\"#00586D\">Dataset: Predicción del tiempo</font>\n",
        "<br>\n",
        "\n",
        "En este tutorial vamos a utilizar un dataset para la [predicción del tiempo](https://www.bgc-jena.mpg.de/wetter/) recopilado por el [Instituto Max Planck de Bioquímica](https://www.bgc-jena.mpg.de/index.php/Main/HomePage).\n",
        "\n",
        "Este dataset contiene 14 características: temperatura, presión atmosférica y humedad, entre otros. Estas muestras se han capturado cada 10 minutos desde 2003. Por eficiencia, nosotros utilizaremos únicamente los datos comprendidos entre 2009 y 2016 con **predicciones cada hora**.\n",
        "\n",
        "Vamos a cargar los datos y visualizar las primeras muestras:"
      ]
    },
    {
      "cell_type": "code",
      "metadata": {
        "id": "pdUMrw8Vv94v"
      },
      "source": [
        "df = pd.read_csv('jena_climate_2009_2016_hourly.zip', index_col=0, parse_dates=['Date Time'], \n",
        "                 date_parser=lambda x : pd.to_datetime(x, format='%d.%m.%Y %H:%M:%S'))\n",
        "\n",
        "df.head()"
      ],
      "execution_count": null,
      "outputs": []
    },
    {
      "cell_type": "markdown",
      "metadata": {
        "id": "eeSNIo0_v94v"
      },
      "source": [
        "Vamos a visualizar la evolución de algunas de estas variables:"
      ]
    },
    {
      "cell_type": "code",
      "metadata": {
        "id": "_bmJBAuXv94w"
      },
      "source": [
        "plot_cols = ['T (degC)', 'p (mbar)', 'rho (g/m**3)']\n",
        "plot_features = df[plot_cols]\n",
        "plot_features.index = df['Date Time']\n",
        "_ = plot_features.plot(subplots=True)"
      ],
      "execution_count": null,
      "outputs": []
    },
    {
      "cell_type": "markdown",
      "metadata": {
        "id": "8xEHZoCUv94w"
      },
      "source": [
        "---\n",
        "\n",
        "<a id=\"section12\"></a>\n",
        "### <font color=\"#00586D\">Análisis de los datos de entrada</font>\n",
        "<br>\n",
        "\n",
        "Empecemos observando las estadísticas del dataset:"
      ]
    },
    {
      "cell_type": "code",
      "metadata": {
        "id": "VbwzKgu5v94w"
      },
      "source": [
        "df.describe().transpose()"
      ],
      "execution_count": null,
      "outputs": []
    },
    {
      "cell_type": "markdown",
      "metadata": {
        "id": "XnuzVdFMv94x"
      },
      "source": [
        "En estos datos llama la atención el valor mínimo de la velocidad del viento (variables `wv (m/s)` y `max. wv (m/s)`). El valor `-9999.00` parece erróneo y, puesto que existe una columna que almacena la dirección del viento `wd (deg)`, podemos asumir que esa velocidad debe ser `>=0`. Así que, para simplificar el preprocesamiento vamos a sustituir esos valores erróneos con 0s. "
      ]
    },
    {
      "cell_type": "code",
      "metadata": {
        "id": "B-Nw6l7vv94x"
      },
      "source": [
        "df['wv (m/s)'].replace(-9999.0, 0.0, inplace=True)\n",
        "df['max. wv (m/s)'].replace(-9999.0, 0.0, inplace=True)\n",
        "\n",
        "df['wv (m/s)'].min() # Sanity check"
      ],
      "execution_count": null,
      "outputs": []
    },
    {
      "cell_type": "markdown",
      "metadata": {
        "id": "1-iMpG1sv94x"
      },
      "source": [
        "Vamos ahora a explorar con algo más de detalle algunas de las columnas para asegurarnos que los datos tienen el formato adecuado.\n",
        "\n",
        "**Viento**\n",
        "\n",
        "La última columna `wd (deg)` contiene la dirección del viento en grados. Sin embargo, no es buena idea utilizar ángulos en grados como entrada, ya que los valores 0º y 360º deberían ser cercanos (iguales).\n",
        "\n",
        "Podemos visualizar la distribución actual de los datos relativos al viento:"
      ]
    },
    {
      "cell_type": "code",
      "metadata": {
        "execution": {
          "iopub.execute_input": "2021-01-21T02:33:44.687924Z",
          "iopub.status.busy": "2021-01-21T02:33:44.687079Z",
          "iopub.status.idle": "2021-01-21T02:33:44.931498Z",
          "shell.execute_reply": "2021-01-21T02:33:44.931949Z"
        },
        "id": "YO7JGTcWQG2z"
      },
      "source": [
        "plt.hist2d(df['wd (deg)'], df['wv (m/s)'], bins=(50, 50), vmax=400)\n",
        "plt.colorbar()\n",
        "plt.xlabel('Wind Direction [deg]')\n",
        "plt.ylabel('Wind Velocity [m/s]')"
      ],
      "execution_count": null,
      "outputs": []
    },
    {
      "cell_type": "markdown",
      "metadata": {
        "id": "IdyOiz_9v94y"
      },
      "source": [
        "Sería más sencillo para el modelo interpretar estos datos si convertimos la dirección y velocidad del viento a **vector**:"
      ]
    },
    {
      "cell_type": "code",
      "metadata": {
        "execution": {
          "iopub.execute_input": "2021-01-21T02:33:44.687924Z",
          "iopub.status.busy": "2021-01-21T02:33:44.687079Z",
          "iopub.status.idle": "2021-01-21T02:33:44.931498Z",
          "shell.execute_reply": "2021-01-21T02:33:44.931949Z"
        },
        "id": "tjIrX7J-v94y"
      },
      "source": [
        "wv = df.pop('wv (m/s)')\n",
        "max_wv = df.pop('max. wv (m/s)')\n",
        "\n",
        "# Convert to radians\n",
        "wd_rad = df.pop('wd (deg)')*np.pi / 180\n",
        "\n",
        "# Calculate the wind x and y components\n",
        "df['Wx'] = wv*np.cos(wd_rad)\n",
        "df['Wy'] = wv*np.sin(wd_rad)\n",
        "\n",
        "# Calculate the max wind x and y components\n",
        "df['max Wx'] = max_wv*np.cos(wd_rad)\n",
        "df['max Wy'] = max_wv*np.sin(wd_rad)"
      ],
      "execution_count": null,
      "outputs": []
    },
    {
      "cell_type": "markdown",
      "metadata": {
        "id": "n83alQWPv94y"
      },
      "source": [
        "Esta distribución es más sencilla de interpretar para el modelo:"
      ]
    },
    {
      "cell_type": "code",
      "metadata": {
        "id": "B_wzIVpfv94z"
      },
      "source": [
        "plt.hist2d(df['Wx'], df['Wy'], bins=(50, 50), vmax=400)\n",
        "plt.colorbar()\n",
        "plt.xlabel('Wind X [m/s]')\n",
        "plt.ylabel('Wind Y [m/s]')\n",
        "ax = plt.gca()\n",
        "ax.axis('tight')"
      ],
      "execution_count": null,
      "outputs": []
    },
    {
      "cell_type": "markdown",
      "metadata": {
        "id": "Vd4XfcEXv940"
      },
      "source": [
        "**Tiempo**\n",
        "\n",
        "La variable tiempo esta almacenada en formato string. Así que, el primer paso será transformarla a segundos:"
      ]
    },
    {
      "cell_type": "code",
      "metadata": {
        "id": "iwT5P3xpv940"
      },
      "source": [
        "import datetime\n",
        "\n",
        "timestamp_s = df.pop('Date Time').map(datetime.datetime.timestamp)"
      ],
      "execution_count": null,
      "outputs": []
    },
    {
      "cell_type": "markdown",
      "metadata": {
        "id": "1xQ4RN-4v940"
      },
      "source": [
        "Sin embargo, el tiempo en segundos tampoco es especialmente útil. Puesto que estamos pronósticando información sobre el tiempo atmosférico, estos datos tiene una periodicidad diaria y anual. Hay distintas formas de gestionar esta situación, una solución sencilla es utilizar `sin` y `cos` para convertir el tiempo a \"Hora del día\" y \"Época del año\":"
      ]
    },
    {
      "cell_type": "code",
      "metadata": {
        "id": "9mM-BJ1fv941"
      },
      "source": [
        "day = 24*60*60\n",
        "year = (365.2425)*day\n",
        "\n",
        "df['Day sin'] = np.sin(timestamp_s * (2 * np.pi / day))\n",
        "df['Day cos'] = np.cos(timestamp_s * (2 * np.pi / day))\n",
        "df['Year sin'] = np.sin(timestamp_s * (2 * np.pi / year))\n",
        "df['Year cos'] = np.cos(timestamp_s * (2 * np.pi / year))"
      ],
      "execution_count": null,
      "outputs": []
    },
    {
      "cell_type": "code",
      "metadata": {
        "id": "UDgvwN1Nv941"
      },
      "source": [
        "plt.plot(np.array(df['Day sin'])[:25])\n",
        "plt.plot(np.array(df['Day cos'])[:25])\n",
        "plt.xlabel('Time [h]')\n",
        "plt.title('Time of day signal')"
      ],
      "execution_count": null,
      "outputs": []
    },
    {
      "cell_type": "markdown",
      "metadata": {
        "id": "CYGEF_Kcv941"
      },
      "source": [
        "<div class=\"alert alert-block alert-info\">\n",
        "    \n",
        "<i class=\"fa fa-info-circle\" aria-hidden=\"true\"></i> __Nota__: Si no conocemos la frecuencia de los datos, se puede determinar usando [`fft`](https://www.tensorflow.org/api_docs/python/tf/signal/rfft?hl=en) (transformada de Fourier).\n",
        "</div>"
      ]
    },
    {
      "cell_type": "markdown",
      "metadata": {
        "id": "iVwUhDN_v942"
      },
      "source": [
        "---\n",
        "\n",
        "<a id=\"section13\"></a>\n",
        "### <font color=\"#00586D\">Preprocesamiento</font>\n",
        "<br>\n",
        "\n",
        "Para entrenar nuestros modelos vamos a utilizar una división de (70%, 20%, 10%) para los conjuntos de entrenamiento, validación y test, respectivamente. Es muy importante **no** permutar las muestras antes de crear estos conjuntos para que los resultados que obtengamos sean más realistas y evitar _data leakage_."
      ]
    },
    {
      "cell_type": "code",
      "metadata": {
        "id": "yw3APEN1v942"
      },
      "source": [
        "column_indices = {name: i for i, name in enumerate(df.columns)}\n",
        "\n",
        "n = len(df)\n",
        "train_df = df[0:int(n*0.7)]\n",
        "val_df = df[int(n*0.7):int(n*0.9)]\n",
        "test_df = df[int(n*0.9):]\n",
        "\n",
        "num_features = df.shape[1]"
      ],
      "execution_count": null,
      "outputs": []
    },
    {
      "cell_type": "markdown",
      "metadata": {
        "id": "c85o5wn0v942"
      },
      "source": [
        "Además de crear esta división, un paso importante en el entrenamiento de redes neuronales es la normalización (o estandarización) de las variables.\n",
        "\n",
        "Como no vamos a realizar validación cruzada, podemos normalizar directamente todos los datos restando la media y dividiendo por la desviación típica de los datos de entrenamiento."
      ]
    },
    {
      "cell_type": "code",
      "metadata": {
        "id": "E8L3o4__v942"
      },
      "source": [
        "train_mean = train_df.mean()\n",
        "train_std = train_df.std()\n",
        "\n",
        "train_df = (train_df - train_mean) / train_std\n",
        "val_df = (val_df - train_mean) / train_std\n",
        "test_df = (test_df - train_mean) / train_std"
      ],
      "execution_count": null,
      "outputs": []
    },
    {
      "cell_type": "markdown",
      "metadata": {
        "id": "v8izJbUDv943"
      },
      "source": [
        "Ahora vamos a echar un último vistazo a las características, para asegurarnos que tienen el formato que esperamos."
      ]
    },
    {
      "cell_type": "code",
      "metadata": {
        "id": "G1d0yCjuv943"
      },
      "source": [
        "df_std = (df - train_mean) / train_std\n",
        "df_std = df_std.melt(var_name='Column', value_name='Normalized')\n",
        "plt.figure(figsize=(12, 6))\n",
        "ax = sns.violinplot(x='Column', y='Normalized', data=df_std)\n",
        "_ = ax.set_xticklabels(df.keys(), rotation=90)"
      ],
      "execution_count": null,
      "outputs": []
    },
    {
      "cell_type": "markdown",
      "metadata": {
        "id": "62g1bueev943"
      },
      "source": [
        "Algunas variables tienen rangos muy amplios, pero no parece que haya ningún dato claramente erróneo (como ocurría antes con los valores `-9999.00`)."
      ]
    },
    {
      "cell_type": "markdown",
      "metadata": {
        "id": "jOm5Yevqv943"
      },
      "source": [
        "<div style=\"text-align: right\">\n",
        "<a href=\"#indice\"><font size=5><i class=\"fa fa-arrow-circle-up\" aria-hidden=\"true\" style=\"color:#00586D\"></i></font></a>\n",
        "</div>\n",
        "\n",
        "---\n",
        "\n",
        "<a id=\"section2\"></a>\n",
        "## <font color=\"#00586D\"> 2. Ventana temporal</font>\n",
        "<br>\n",
        "\n",
        "Los modelos que vamos a ver en este tutorial van a utilizar una ventana temporal para definir el conjunto de datos de entrada. Las principales características de este tipo de ventana son:\n",
        "\n",
        "* El ancho (número de pasos/instantes) de la entrada y las etiquetas.\n",
        "* El offset entre muestras.\n",
        "* El tipo de características a utilizar: datos de entrada, etiquetas o ambos.\n",
        "\n",
        "En esta sección nos vamos a centrar en construir una clase para gestionar la ventana temporal de forma que la podamos utilizar con distintos modelos.\n",
        "\n",
        "Dependiendo de la tarea y el tipo de modelo podemos querer generar distintos tipos de ventanas temporales. Por ejemplo:\n",
        "\n",
        "1. Para realizar una única predicción 24 horas en el futuro dadas 24 horas anteriores, podemos definir una ventana de este tipo:\n",
        "\n",
        "<!--img width=\"500px\" src=\"images-notebook/raw_window_24h.png\" /-->\n",
        "<img width=\"500px\" src=\"data:image/png;base64,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\" />\n",
        "\n",
        "2. Un modelo que hace una predicción 1 hora en el futuro, dadas 6 horas anteriores utilizaría una ventana de este tipo:\n",
        "\n",
        "<!--img width=\"350px\" src=\"images-notebook/raw_window_1h.png\" /-->\n",
        "<img width=\"350px\" src=\"data:image/png;base64,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\" />\n",
        "\n",
        "\n",
        "A continuación, vamos a definir una ventana que nos permita realizar este tipo de selecciones. Esta clase deberá:\n",
        "1. Gestionar los índices y offsets mostrados en los diagramas anteriores.\n",
        "1. Dividir las características en ventanas formadas por pares `(features, labels)`.\n",
        "1. Mostrar las distinas ventanas resultantes.\n",
        "1. Generar de forma eficiente _batches_ de los conjuntos de entrenamiento, validación y test usando [Datasets de TensorFlow](https://www.tensorflow.org/api_docs/python/tf/data/Dataset?hl=en).\n"
      ]
    },
    {
      "cell_type": "markdown",
      "metadata": {
        "id": "fxevnIFjv945"
      },
      "source": [
        "---\n",
        "\n",
        "Vamos a empezar creando la clase `WindowGenerator`, de forma que el método `__init__` incluya toda la lógica necesaria para la gestión de los índices de las entradas y las etiquetas.\n",
        "\n",
        "También vamos a pasar como entrada los conjuntos de entrenamiento, validación y test. Más adelante los convertiremos a `tf.data.Dataset`."
      ]
    },
    {
      "cell_type": "code",
      "metadata": {
        "id": "rA6sItRfv945"
      },
      "source": [
        "class WindowGenerator():\n",
        "    def __init__(self, input_width, label_width, offset,\n",
        "                 train_df=train_df, val_df=val_df, test_df=test_df,\n",
        "                 label_columns=None):\n",
        "        # Store the raw data\n",
        "        self.train_df = train_df\n",
        "        self.val_df = val_df\n",
        "        self.test_df = test_df\n",
        "\n",
        "        # Work out the label column indices\n",
        "        self.label_columns = label_columns\n",
        "        if label_columns is not None:\n",
        "            self.label_columns_indices = {name: i for i, name in\n",
        "                                          enumerate(label_columns)}\n",
        "        self.column_indices = {name: i for i, name in\n",
        "                               enumerate(train_df.columns)}\n",
        "\n",
        "        # Work out the window parameters\n",
        "        self.input_width = input_width\n",
        "        self.label_width = label_width\n",
        "        self.offset = offset\n",
        "\n",
        "        self.total_window_size = input_width + offset\n",
        "\n",
        "        self.input_slice = slice(0, input_width)\n",
        "        self.input_indices = np.arange(self.total_window_size)[self.input_slice]\n",
        "\n",
        "        self.label_start = self.total_window_size - self.label_width\n",
        "        self.labels_slice = slice(self.label_start, None)\n",
        "        self.label_indices = np.arange(self.total_window_size)[self.labels_slice]\n",
        "\n",
        "    def __repr__(self):\n",
        "        return '\\n'.join([\n",
        "            f'Total window size: {self.total_window_size}',\n",
        "            f'Input indices: {self.input_indices}',\n",
        "            f'Label indices: {self.label_indices}',\n",
        "            f'Label column name(s): {self.label_columns}'])"
      ],
      "execution_count": null,
      "outputs": []
    },
    {
      "cell_type": "markdown",
      "metadata": {
        "id": "ZHVQQuekv946"
      },
      "source": [
        "Con esta clase podemos crear las dos ventanas que hemos mostrado como ejemplo en los diagramas anteriores:"
      ]
    },
    {
      "cell_type": "code",
      "metadata": {
        "id": "BYKEagWKv947"
      },
      "source": [
        "w1 = WindowGenerator(input_width=24, label_width=1, offset=24,\n",
        "                     label_columns=['T (degC)'])\n",
        "w1"
      ],
      "execution_count": null,
      "outputs": []
    },
    {
      "cell_type": "code",
      "metadata": {
        "id": "0j7YodsEv948"
      },
      "source": [
        "w2 = WindowGenerator(input_width=6, label_width=1, offset=1,\n",
        "                     label_columns=['T (degC)'])\n",
        "w2"
      ],
      "execution_count": null,
      "outputs": []
    },
    {
      "cell_type": "markdown",
      "metadata": {
        "id": "HoXiut3av949"
      },
      "source": [
        "---\n",
        "\n",
        "Dada una lista de entradas consecutivas, el método `split_window` las convertirá a ventana de entradas y ventana de etiquetas.\n",
        "\n",
        "El ejemplo `w2` anterior se dividiría así:\n",
        "\n",
        "<!--img width=\"500px\" src=\"images-notebook/split_window.png\" /-->\n",
        "<img width=\"500px\" src=\"data:image/png;base64,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\" />"
      ]
    },
    {
      "cell_type": "code",
      "metadata": {
        "id": "9zzWKuPEv94-"
      },
      "source": [
        "def split_window(self, features):\n",
        "    inputs = features[:, self.input_slice, :]\n",
        "    labels = features[:, self.labels_slice, :]\n",
        "    if self.label_columns is not None:\n",
        "        labels = tf.stack(\n",
        "            [labels[:, :, self.column_indices[name]] for name in self.label_columns], \n",
        "            axis=-1)\n",
        "\n",
        "    # Slicing doesn't preserve static shape information, so set the shapes\n",
        "    # manually. This way the `tf.data.Datasets` are easier to inspect.\n",
        "    inputs.set_shape([None, self.input_width, None])\n",
        "    labels.set_shape([None, self.label_width, None])\n",
        "\n",
        "    return inputs, labels\n",
        "\n",
        "WindowGenerator.split_window = split_window"
      ],
      "execution_count": null,
      "outputs": []
    },
    {
      "cell_type": "markdown",
      "metadata": {
        "id": "pWN6l0KSv94-"
      },
      "source": [
        "Lo probamos:"
      ]
    },
    {
      "cell_type": "code",
      "metadata": {
        "id": "4MzdvORZv94-"
      },
      "source": [
        "# Stack three slices, the length of the total window:\n",
        "example_window = tf.stack([np.array(train_df[:w2.total_window_size]),\n",
        "                           np.array(train_df[100:100+w2.total_window_size]),\n",
        "                           np.array(train_df[200:200+w2.total_window_size])])\n",
        "\n",
        "\n",
        "example_inputs, example_labels = w2.split_window(example_window)\n",
        "\n",
        "print('All shapes are: (batch, time, features)')\n",
        "print(f'Window shape: {example_window.shape}')\n",
        "# print(example_window)\n",
        "print(f'Inputs shape: {example_inputs.shape}')\n",
        "# print(example_inputs)\n",
        "print(f'labels shape: {example_labels.shape}')\n",
        "# print(example_labels)"
      ],
      "execution_count": null,
      "outputs": []
    },
    {
      "cell_type": "markdown",
      "metadata": {
        "id": "nkO7gdN7v94-"
      },
      "source": [
        "Este código ha cogido un _batch_ de 3 ventanas de ancho 7 con 19 características en cada instante de tiempo, y lo ha dividio en 3 _batches_ de ancho 6 con 19 características (las entradas) y en 3 _batches_ de ancho 1 con 1 característica (las etiquetas)."
      ]
    },
    {
      "cell_type": "markdown",
      "metadata": {
        "id": "1XdpiQe6v94_"
      },
      "source": [
        "---\n",
        "\n",
        "Vamos también a añadir un método sencillo que nos permita visualizar la división de la ventana:"
      ]
    },
    {
      "cell_type": "code",
      "metadata": {
        "id": "JA2Qw3vuv94_"
      },
      "source": [
        "w2.example = example_inputs, example_labels"
      ],
      "execution_count": null,
      "outputs": []
    },
    {
      "cell_type": "code",
      "metadata": {
        "id": "dBY7d9TDv94_"
      },
      "source": [
        "def plot(self, model=None, plot_col='T (degC)', max_subplots=3):\n",
        "    inputs, labels = self.example\n",
        "    plt.figure(figsize=(12, 8))\n",
        "    plot_col_index = self.column_indices[plot_col]\n",
        "    max_n = min(max_subplots, len(inputs))\n",
        "    for n in range(max_n):\n",
        "        plt.subplot(3, 1, n+1)\n",
        "        plt.ylabel(f'{plot_col} [normed]')\n",
        "        plt.plot(self.input_indices, inputs[n, :, plot_col_index],\n",
        "                 label='Inputs', marker='.', zorder=-10)\n",
        "\n",
        "        if self.label_columns:\n",
        "            label_col_index = self.label_columns_indices.get(plot_col, None)\n",
        "        else:\n",
        "            label_col_index = plot_col_index\n",
        "\n",
        "        if label_col_index is None:\n",
        "            continue\n",
        "\n",
        "        plt.scatter(self.label_indices, labels[n, :, label_col_index],\n",
        "                    edgecolors='k', label='Labels', c='#2ca02c', s=64)\n",
        "        if model is not None:\n",
        "            predictions = model(inputs)\n",
        "            plt.scatter(self.label_indices, predictions[n, :, label_col_index],\n",
        "                        marker='X', edgecolors='k', label='Predictions',\n",
        "                        c='#ff7f0e', s=64)\n",
        "\n",
        "        if n == 0:\n",
        "            plt.legend()\n",
        "\n",
        "    plt.xlabel('Time [h]')\n",
        "\n",
        "WindowGenerator.plot = plot"
      ],
      "execution_count": null,
      "outputs": []
    },
    {
      "cell_type": "markdown",
      "metadata": {
        "id": "erO7mtz3v95A"
      },
      "source": [
        "Este método nos va a permitir visualizar entradas, etiquetas y prediciones de forma alineada según su timestamp correspondiente."
      ]
    },
    {
      "cell_type": "code",
      "metadata": {
        "id": "iUUYOAVIv95A"
      },
      "source": [
        "w2.plot()"
      ],
      "execution_count": null,
      "outputs": []
    },
    {
      "cell_type": "markdown",
      "metadata": {
        "id": "RT2WgWGnv95A"
      },
      "source": [
        "---\n",
        "\n",
        "Por último, vamos a definir el método `make_dataset` que tome como entrada un `DataFrame` con la serie temporal y lo convierta a `tf.data.Dataset` con pares `(input_window, label_window)`. Para ello vamos a utilizar[`tf.keras.utils.timeseries_dataset_from_array`](https://www.tensorflow.org/api_docs/python/tf/keras/utils/timeseries_dataset_from_array)."
      ]
    },
    {
      "cell_type": "code",
      "metadata": {
        "id": "T1xGGCXGv95A"
      },
      "source": [
        "def make_dataset(self, data):\n",
        "    data = np.array(data, dtype=np.float32)\n",
        "    ds = tf.keras.utils.timeseries_dataset_from_array(\n",
        "        data=data,\n",
        "        targets=None,\n",
        "        sequence_length=self.total_window_size,\n",
        "        sequence_stride=1,\n",
        "        shuffle=True,\n",
        "        batch_size=32,)\n",
        "    \n",
        "    ds = ds.map(self.split_window)\n",
        "\n",
        "    return ds\n",
        "\n",
        "WindowGenerator.make_dataset = make_dataset"
      ],
      "execution_count": null,
      "outputs": []
    },
    {
      "cell_type": "markdown",
      "metadata": {
        "id": "UtWHmEH-v95A"
      },
      "source": [
        "Ya sólo nos falta añadir propiedades al objeto `WindowGenerator` para poder acceder a los distintos conjuntos como `tf.data.Dataset` utilizando el método anterior."
      ]
    },
    {
      "cell_type": "code",
      "metadata": {
        "id": "aR4QTqgMv95B"
      },
      "source": [
        "@property\n",
        "def train(self):\n",
        "    return self.make_dataset(self.train_df)\n",
        "\n",
        "@property\n",
        "def val(self):\n",
        "    return self.make_dataset(self.val_df)\n",
        "\n",
        "@property\n",
        "def test(self):\n",
        "    return self.make_dataset(self.test_df)\n",
        "\n",
        "@property\n",
        "def example(self):\n",
        "    \"\"\"Get and cache an example batch of `inputs, labels` for plotting.\"\"\"\n",
        "    result = getattr(self, '_example', None)\n",
        "    if result is None:\n",
        "        # No example batch was found, so get one from the `.train` dataset\n",
        "        result = next(iter(self.train))\n",
        "        # And cache it for next time\n",
        "        self._example = result\n",
        "    return result\n",
        "\n",
        "WindowGenerator.train = train\n",
        "WindowGenerator.val = val\n",
        "WindowGenerator.test = test\n",
        "WindowGenerator.example = example"
      ],
      "execution_count": null,
      "outputs": []
    },
    {
      "cell_type": "markdown",
      "metadata": {
        "id": "kZVuJDXUv95B"
      },
      "source": [
        "Ahora, al tener acceso a los objetos `tf.data.Dataset` podremos iterar de forma sencilla sobre los datos."
      ]
    },
    {
      "cell_type": "markdown",
      "metadata": {
        "id": "Sl-Y3xiVv95B"
      },
      "source": [
        "<div style=\"text-align: right\">\n",
        "<a href=\"#indice\"><font size=5><i class=\"fa fa-arrow-circle-up\" aria-hidden=\"true\" style=\"color:#00586D\"></i></font></a>\n",
        "</div>\n",
        "\n",
        "---\n",
        "\n",
        "<a id=\"section3\"></a> \n",
        "## <font color=\"#00586D\"> 3. Pronóstico de un único instante de tiempo</font>\n",
        "<br>\n",
        "\n",
        "El modelo más sencillo que podemos construir para este tipo de problemas es el que predice el valor de una única característica en un único instante de tiempo (en nuestro problema, una hora) del futuro basándose sólo en las condiciones actuales. \n",
        "\n",
        "Así que vamos a construir modelos para predecir la temperatura `T (degC)` dentro de una hora.\n",
        "\n",
        "<!--img width=\"100px\" src=\"images-notebook/narrow_window.png\" /-->\n",
        "<img width=\"100px\" src=\"data:image/png;base64,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\" />\n",
        "\n",
        "Lo primero que debemos hacer es configurar el objeto `WindowGenerator` para producir pares de un único elemento `(input, label)`:"
      ]
    },
    {
      "cell_type": "code",
      "metadata": {
        "id": "GcTNMi5ov95B"
      },
      "source": [
        "single_step_window = WindowGenerator(\n",
        "    input_width=1, label_width=1, offset=1,\n",
        "    label_columns=['T (degC)'])\n",
        "single_step_window"
      ],
      "execution_count": null,
      "outputs": []
    },
    {
      "cell_type": "markdown",
      "metadata": {
        "id": "63Qy_uerv95B"
      },
      "source": [
        "El objeto `window` crea los `td.data.Dataset` de entrenamiento, validación y test, de forma que podemos iterar sobre los distintos batches de forma sencilla."
      ]
    },
    {
      "cell_type": "code",
      "metadata": {
        "id": "eKB0pg0Fv95B"
      },
      "source": [
        "for example_inputs, example_labels in single_step_window.train.take(2):\n",
        "    print(f'Inputs shape (batch, time, features): {example_inputs.shape}')\n",
        "    # print(example_inputs)\n",
        "    print(f'Labels shape (batch, time, features): {example_labels.shape}')\n",
        "    # print(example_labels)"
      ],
      "execution_count": null,
      "outputs": []
    },
    {
      "cell_type": "markdown",
      "metadata": {
        "id": "iXEHW9cLv95C"
      },
      "source": [
        "Por otra parte, en esta práctica vamos a entrenar distintos modelos, así que vamos a encapsular el entrenamiento en una función:"
      ]
    },
    {
      "cell_type": "code",
      "metadata": {
        "id": "Efb1Q_xAv95C"
      },
      "source": [
        "MAX_EPOCHS = 20\n",
        "\n",
        "def compile_and_fit(model, window, patience=2):\n",
        "    early_stopping = tf.keras.callbacks.EarlyStopping(monitor='val_loss',\n",
        "                                                      patience=patience,\n",
        "                                                      mode='min')\n",
        "\n",
        "    model.compile(loss=tf.losses.MeanSquaredError(),\n",
        "                  optimizer=tf.optimizers.Adam(),\n",
        "                  metrics=[tf.metrics.MeanAbsoluteError()])\n",
        "\n",
        "    history = model.fit(window.train, epochs=MAX_EPOCHS,\n",
        "                        validation_data=window.val,\n",
        "                        callbacks=[early_stopping])\n",
        "    return history\n",
        "\n",
        "# Placeholders for results\n",
        "val_performance = {}\n",
        "performance = {}"
      ],
      "execution_count": null,
      "outputs": []
    },
    {
      "cell_type": "markdown",
      "metadata": {
        "id": "QpdP_W3jv95C"
      },
      "source": [
        "---\n",
        "\n",
        "<a id=\"section31\"></a>\n",
        "### <font color=\"#00586D\">Modelo lineal</font>\n",
        "<br>\n",
        "\n",
        "El modelo más sencillo que podemos entrenar es el que añade una transformación lineal entre los datos de entrada y los de salida. En este caso, la salida en un instante dado depende únicamente de la entrada en ese momento.\n",
        "\n",
        "Una capa densa de una red neuronal, sin activación, es un modelo lineal. La capa únicamente transforma los datos de entrada `(batch, step, inputs)` a `(batch, step, units)`:"
      ]
    },
    {
      "cell_type": "code",
      "metadata": {
        "id": "S1nEU9nbv95C"
      },
      "source": [
        "linear = tf.keras.Sequential([\n",
        "    tf.keras.layers.Dense(units=1)\n",
        "])\n",
        "\n",
        "print('Input shape:', single_step_window.example[0].shape)\n",
        "print('Output shape:', linear(single_step_window.example[0]).shape)"
      ],
      "execution_count": null,
      "outputs": []
    },
    {
      "cell_type": "markdown",
      "metadata": {
        "id": "8JmLut9av95C"
      },
      "source": [
        "Entrenamos el modelo y evaluamos sus resultados:"
      ]
    },
    {
      "cell_type": "code",
      "metadata": {
        "id": "PrB11DR2v95C"
      },
      "source": [
        "history = compile_and_fit(linear, single_step_window)\n",
        "\n",
        "val_performance['Linear'] = linear.evaluate(single_step_window.val)\n",
        "performance['Linear'] = linear.evaluate(single_step_window.test, verbose=0)"
      ],
      "execution_count": null,
      "outputs": []
    },
    {
      "cell_type": "markdown",
      "metadata": {
        "id": "oNO2U2Uiv95C"
      },
      "source": [
        "Para poder visualizar mejor los resultados, podemos utilizar el modelo para predecir un número mayor de pasos. Para ello, podemos llamar al modelo con una ventana más ancha, para que el modelo realice predicciones independientes sobre instantes de tiempo consecutivos.\n",
        "\n",
        "<!--img width=\"500px\" src=\"images-notebook/wide_window.png\" /-->\n",
        "<img width=\"500px\" src=\"data:image/png;base64,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\" />"
      ]
    },
    {
      "cell_type": "code",
      "metadata": {
        "id": "0N_B1SCJv95D"
      },
      "source": [
        "wide_window = WindowGenerator(\n",
        "    input_width=24, label_width=24, offset=1,\n",
        "    label_columns=['T (degC)'])\n",
        "\n",
        "print('Input shape:', wide_window.example[0].shape)\n",
        "print('Output shape:', linear(wide_window.example[0]).shape)"
      ],
      "execution_count": null,
      "outputs": []
    },
    {
      "cell_type": "markdown",
      "metadata": {
        "id": "piDrqMncv95D"
      },
      "source": [
        "Con esta ventana, podemos visualizar predicciones consecutivas de forma que tenemos una mejor representación de los resultados obtenidos con el modelo."
      ]
    },
    {
      "cell_type": "code",
      "metadata": {
        "id": "ig-TuGs7v95D"
      },
      "source": [
        "wide_window.plot(linear)"
      ],
      "execution_count": null,
      "outputs": []
    },
    {
      "cell_type": "markdown",
      "metadata": {
        "id": "hZLJED1lv95D"
      },
      "source": [
        "En esta imagen tenemos 3 ejemplos con los datos de entrenamiento. Para cada ejemplo podemos ver:\n",
        "\n",
        "* La _entrada_ (azul): Representa la temperatura de entrada, son los datos que tenemos en el dataset.\n",
        "* Las _etiquetas_ (verde): El ground-truth de la predicción. Los puntos corresponden a los valores de predicción, por ese motivo la primera entrada no tiene predicción.\n",
        "* Las _predicciones_ (naranja): Las preciciones realizadas por el modelo para cada instante de tiempo. El desplazamiento respecto a las etiquetas es el error en la predicción.\n",
        "\n",
        "En estos ejemplos, el modelo funciona relativamente bien aunque con algunos errores.\n",
        "\n",
        "Lo bueno de utilizar modelos lineales es que podemos interpretarlos. Podemos ver los pesos aprendidos para cada variable para conocer la importancia de cada una de ellas:"
      ]
    },
    {
      "cell_type": "code",
      "metadata": {
        "id": "bFpzLsgJv95D"
      },
      "source": [
        "plt.bar(x = range(len(train_df.columns)),\n",
        "        height=linear.layers[0].kernel[:,0].numpy())\n",
        "axis = plt.gca()\n",
        "axis.set_xticks(range(len(train_df.columns)))\n",
        "_ = axis.set_xticklabels(train_df.columns, rotation=90)"
      ],
      "execution_count": null,
      "outputs": []
    },
    {
      "cell_type": "markdown",
      "metadata": {
        "id": "JBfzC7h1v95D"
      },
      "source": [
        "**Nota**: Según la inicialización de pesos, es posible que variables que a priori pueden parecer importantes (como la temperatura) no tengan el peso esperado."
      ]
    },
    {
      "cell_type": "markdown",
      "metadata": {
        "id": "-qGzu0T7v95E"
      },
      "source": [
        "---\n",
        "\n",
        "<a id=\"section32\"></a>\n",
        "### <font color=\"#00586D\">Red densa</font>\n",
        "<br>\n",
        "\n",
        "Ahora vamos a comparar con un modelo con más profundidad, que en principio debería funcionar mejor ya que es capaz de reconocer patrones más complejos.\n",
        "\n",
        "Podemos definir un modelo denso (o _fully-connected_) simplemente añadiendo más capas densas:"
      ]
    },
    {
      "cell_type": "code",
      "metadata": {
        "id": "2YUPRm6Vv95E"
      },
      "source": [
        "dense = tf.keras.Sequential([\n",
        "    tf.keras.layers.Dense(units=64, activation='relu'),\n",
        "    tf.keras.layers.Dense(units=64, activation='relu'),\n",
        "    tf.keras.layers.Dense(units=1)\n",
        "])\n",
        "\n",
        "history = compile_and_fit(dense, single_step_window)\n",
        "\n",
        "val_performance['Dense'] = dense.evaluate(single_step_window.val)\n",
        "performance['Dense'] = dense.evaluate(single_step_window.test, verbose=0)"
      ],
      "execution_count": null,
      "outputs": []
    },
    {
      "cell_type": "markdown",
      "metadata": {
        "id": "lUtCsmNbv95E"
      },
      "source": [
        "---\n",
        "\n",
        "Sin embargo, este modelo sigue siendo demasiado sencillo, puesto que sólo utilizamos la información actual para entrenar. Para obtener resultados más interesantes debemos permitir que el modelo tenga acceso a información anterior para poder así identificar las dependencias temporales:\n",
        "\n",
        "<!--img width=\"200px\" src=\"images-notebook/conv_window.png\" /-->\n",
        "<img width=\"200px\" src=\"data:image/png;base64,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\" />\n",
        "\n",
        "Con esta configuración el modelo utilizará multiples instantes de tiempo como entrada para generar una única predicción.\n",
        "\n",
        "Vamos a crear la ventana correspondiente que nos permita realizar este entrenamiento. En concreto, definiremos una ventana con _batches_ de 3 horas y etiquetas con una única hora:"
      ]
    },
    {
      "cell_type": "code",
      "metadata": {
        "id": "QnWDPRC4v95E"
      },
      "source": [
        "CONV_WIDTH = 3\n",
        "conv_window = WindowGenerator(\n",
        "    input_width=CONV_WIDTH,\n",
        "    label_width=1,\n",
        "    offset=1,\n",
        "    label_columns=['T (degC)'])\n",
        "\n",
        "conv_window"
      ],
      "execution_count": null,
      "outputs": []
    },
    {
      "cell_type": "code",
      "metadata": {
        "id": "KAQ5tQc7v95E"
      },
      "source": [
        "conv_window.plot()\n",
        "\n",
        "plt.suptitle(\"Given 3h as input, predict 1h into the future.\")"
      ],
      "execution_count": null,
      "outputs": []
    },
    {
      "cell_type": "markdown",
      "metadata": {
        "id": "FMDVWd1Bv95F"
      },
      "source": [
        "Ahora podemos entrenar nuestro modelo denso en esta nueva ventana, para ello sólo necesitamos añadir una capa `Flatten` al principio del modelo:"
      ]
    },
    {
      "cell_type": "code",
      "metadata": {
        "id": "wNLCyGmav95F"
      },
      "source": [
        "multi_step_dense = tf.keras.Sequential([\n",
        "    # Shape: (step, features) => (step*features)\n",
        "    tf.keras.layers.Flatten(),\n",
        "    tf.keras.layers.Dense(units=32, activation='relu'),\n",
        "    tf.keras.layers.Dense(units=32, activation='relu'),\n",
        "    tf.keras.layers.Dense(units=1),\n",
        "    # Add back the time dimension.\n",
        "    # Shape: (outputs) => (1, outputs)\n",
        "    tf.keras.layers.Reshape([1, -1]),\n",
        "])"
      ],
      "execution_count": null,
      "outputs": []
    },
    {
      "cell_type": "code",
      "metadata": {
        "id": "1JypngKDv95F"
      },
      "source": [
        "history = compile_and_fit(multi_step_dense, conv_window)\n",
        "\n",
        "IPython.display.clear_output()\n",
        "val_performance['Multi step dense'] = multi_step_dense.evaluate(conv_window.val)\n",
        "performance['Multi step dense'] = multi_step_dense.evaluate(conv_window.test, verbose=0)"
      ],
      "execution_count": null,
      "outputs": []
    },
    {
      "cell_type": "code",
      "metadata": {
        "id": "Y2o47uMfv95F"
      },
      "source": [
        "conv_window.plot(multi_step_dense)"
      ],
      "execution_count": null,
      "outputs": []
    },
    {
      "cell_type": "markdown",
      "metadata": {
        "id": "qmXcQTUrv95F"
      },
      "source": [
        "---\n",
        "\n",
        "<a id=\"section33\"></a>\n",
        "### <font color=\"#00586D\">Red convolucional</font>\n",
        "<br>\n",
        "\n",
        "Utilizando una capa convolucional (`tf.keras.layers.Conv1D`) también podemos utilizar entradas que incluyan varios instantes de tiempo.\n",
        "\n",
        "Vamos a definir nuestra red:"
      ]
    },
    {
      "cell_type": "code",
      "metadata": {
        "id": "jU7GVHYWv95F"
      },
      "source": [
        "conv_model = tf.keras.Sequential([\n",
        "    tf.keras.layers.Conv1D(filters=32,\n",
        "                           kernel_size=(CONV_WIDTH,),\n",
        "                           activation='relu'),\n",
        "    tf.keras.layers.Dense(units=32, activation='relu'),\n",
        "    tf.keras.layers.Dense(units=1),\n",
        "])"
      ],
      "execution_count": null,
      "outputs": []
    },
    {
      "cell_type": "markdown",
      "metadata": {
        "id": "t32Tllxev95F"
      },
      "source": [
        "En este caso no es necesario \"aplanar\" la entrada, pues estamos utilizando convoluciones.\n",
        "\n",
        "Entrenamos y evaluamos el modelo:"
      ]
    },
    {
      "cell_type": "code",
      "metadata": {
        "id": "HMiH_-jSv95G"
      },
      "source": [
        "history = compile_and_fit(conv_model, conv_window)\n",
        "\n",
        "IPython.display.clear_output()\n",
        "val_performance['Conv'] = conv_model.evaluate(conv_window.val)\n",
        "performance['Conv'] = conv_model.evaluate(conv_window.test, verbose=0)"
      ],
      "execution_count": null,
      "outputs": []
    },
    {
      "cell_type": "markdown",
      "metadata": {
        "id": "bz1QejV3v95G"
      },
      "source": [
        "Lo bueno de utilizar modelos convolucionales es que podemos, directamente, utilizarlos con entradas de cualquier tamaño, ya que aplicará una ventana deslizante a los datos de entrada.\n",
        "\n",
        "<!--img width=\"500px\" src=\"images-notebook/wide_conv_window.png\" /-->\n",
        "<img width=\"500px\" src=\"data:image/png;base64,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\" />"
      ]
    },
    {
      "cell_type": "markdown",
      "metadata": {
        "id": "DQb4Eln6v95G"
      },
      "source": [
        "Si lo utilizamos con una entrada más ancha, produce una salida más ancha:"
      ]
    },
    {
      "cell_type": "code",
      "metadata": {
        "id": "wIDOT8iev95G"
      },
      "source": [
        "print(\"Wide window\")\n",
        "print('Input shape:', wide_window.example[0].shape)\n",
        "print('Labels shape:', wide_window.example[1].shape)\n",
        "print('Output shape:', conv_model(wide_window.example[0]).shape)"
      ],
      "execution_count": null,
      "outputs": []
    },
    {
      "cell_type": "markdown",
      "metadata": {
        "id": "Tnlinp1dv95G"
      },
      "source": [
        "La salida es algo más corta que las etiquetas, esto es debido a que para los primero instantes de tiempo, no hay datos para dar una predicción.\n",
        "\n",
        "Pero para poder visualizar esta salida necesitamos que las etiquetas y las salidas tengan el mismo tamaño, esto lo podemos solucionar configurando una ventana que tenga algunos instantes de tiempo extra:"
      ]
    },
    {
      "cell_type": "code",
      "metadata": {
        "id": "njJGwaU6v95G"
      },
      "source": [
        "LABEL_WIDTH = 24\n",
        "INPUT_WIDTH = LABEL_WIDTH + (CONV_WIDTH - 1)\n",
        "wide_conv_window = WindowGenerator(\n",
        "    input_width=INPUT_WIDTH,\n",
        "    label_width=LABEL_WIDTH,\n",
        "    offset=1,\n",
        "    label_columns=['T (degC)'])\n",
        "\n",
        "wide_conv_window"
      ],
      "execution_count": null,
      "outputs": []
    },
    {
      "cell_type": "markdown",
      "metadata": {
        "id": "qBLtxdCav95H"
      },
      "source": [
        "Ahora podemos visualizar las predicciones del modelo:"
      ]
    },
    {
      "cell_type": "code",
      "metadata": {
        "id": "S9KqNLT_v95H"
      },
      "source": [
        "wide_conv_window.plot(conv_model)"
      ],
      "execution_count": null,
      "outputs": []
    },
    {
      "cell_type": "markdown",
      "metadata": {
        "id": "hf_KD25Kv95H"
      },
      "source": [
        "---\n",
        "\n",
        "<a id=\"section34\"></a>\n",
        "### <font color=\"#00586D\">Red recurrente</font>\n",
        "<br>\n",
        "\n",
        "La redes recurrentes por su parte, nos van a permitir procesar los datos de entrada paso a paso, manteniendo un estado interno (memoria) para poder realizar las predicciones. En esta práctica vamos a utilizar capas (unidades) Long Short-Term Memory (LSTM).\n",
        "\n",
        "Este tipo de capas está implementado en TensorFlow de forma que, según la configuración que utilicemos de las mismas, hará uso de la GPU para acelerar el procesamiento si es posible.\n",
        "\n",
        "La capa [`tf.keras.layers.LSTM`](https://www.tensorflow.org/versions/r2.0/api_docs/python/tf/keras/layers/LSTM) tiene muchos argumentos, pero nos vamos a centrar en los dos siguientes:\n",
        "\n",
        "    tf.keras.layers.LSTM(units, return_sequences=False)\n",
        "    \n",
        "* `units` es el número de unidades en la capa.\n",
        "* `return_sequences` permite configurar la capa de forma que:\n",
        "    * Si es `False` (valor por defecto) la capa da como salida únicamente la predicción en el instante final.\n",
        "    <!--img width=\"500px\" src=\"images-notebook/lstm_1_window.png\" /-->\n",
        "    <img width=\"500px\" src=\"data:image/png;base64,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\" />\n",
        "\n",
        "    * Si es `True` la capa devuelve una salida para cada valor de entrada. Este comportamiento es útil si queremos, por ejemplo, tener varias capas recurrentes.\n",
        "    <!--img width=\"500px\" src=\"images-notebook/lstm_many_window.png\" /-->\n",
        "    <img width=\"500px\" src=\"data:image/png;base64,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\" />\n",
        "    \n",
        "Se pueden consultar argumentos adicionales (como posibles funciones de activación o dropout) en la [documentación oficial](https://www.tensorflow.org/versions/r2.0/api_docs/python/tf/keras/layers/LSTM). Estos argumentos se pueden modificar, pero dejando sus valores por defecto, el entrenamiento será más eficiente.\n",
        "\n"
      ]
    },
    {
      "cell_type": "code",
      "metadata": {
        "id": "7g7evlVPv95I"
      },
      "source": [
        "lstm_model = tf.keras.models.Sequential([\n",
        "    # Shape [batch, step, features] => [batch, step, lstm_units]\n",
        "    tf.keras.layers.LSTM(32, return_sequences=True),\n",
        "    # Shape => [batch, step, features]\n",
        "    tf.keras.layers.Dense(units=1)\n",
        "])"
      ],
      "execution_count": null,
      "outputs": []
    },
    {
      "cell_type": "code",
      "metadata": {
        "id": "VDiv1PP_v95I"
      },
      "source": [
        "history = compile_and_fit(lstm_model, wide_window)\n",
        "\n",
        "IPython.display.clear_output()\n",
        "val_performance['LSTM'] = lstm_model.evaluate(wide_window.val)\n",
        "performance['LSTM'] = lstm_model.evaluate(wide_window.test, verbose=0)"
      ],
      "execution_count": null,
      "outputs": []
    },
    {
      "cell_type": "code",
      "metadata": {
        "id": "g1XmPlaBv95I"
      },
      "source": [
        "wide_window.plot(lstm_model)"
      ],
      "execution_count": null,
      "outputs": []
    },
    {
      "cell_type": "markdown",
      "metadata": {
        "id": "T1DsOAY_v95I"
      },
      "source": [
        "---\n",
        "\n",
        "<a id=\"section35\"></a>\n",
        "### <font color=\"#00586D\">Comparativa</font>\n",
        "<br>\n",
        "\n",
        "Para este dataset, cada modelo debería funcionar algo mejor que el modelo anterior."
      ]
    },
    {
      "cell_type": "code",
      "metadata": {
        "id": "yL3d7hy5v95I"
      },
      "source": [
        "x = np.arange(len(performance))\n",
        "width = 0.3\n",
        "metric_name = 'mean_absolute_error'\n",
        "metric_index = lstm_model.metrics_names.index('mean_absolute_error')\n",
        "val_mae = [v[metric_index] for v in val_performance.values()]\n",
        "test_mae = [v[metric_index] for v in performance.values()]\n",
        "\n",
        "plt.ylabel('mean_absolute_error [T (degC), normalized]')\n",
        "plt.bar(x - 0.17, val_mae, width, label='Validation')\n",
        "plt.bar(x + 0.17, test_mae, width, label='Test')\n",
        "plt.xticks(ticks=x, labels=performance.keys(), rotation=45)\n",
        "_ = plt.legend()"
      ],
      "execution_count": null,
      "outputs": []
    },
    {
      "cell_type": "markdown",
      "metadata": {
        "id": "wo-tuwAdv95I"
      },
      "source": [
        "<div style=\"text-align: right\">\n",
        "<a href=\"#indice\"><font size=5><i class=\"fa fa-arrow-circle-up\" aria-hidden=\"true\" style=\"color:#00586D\"></i></font></a>\n",
        "</div>\n",
        "\n",
        "---\n",
        "\n",
        "<a id=\"section4\"></a> \n",
        "## <font color=\"#00586D\"> 4. Pronóstico de varios instantes de tiempo</font>\n",
        "<br>\n",
        "\n",
        "Todos los modelos entrenados hasta ahora realizan una única predicción para un único instante de tiempo. En esta última parte de la práctica vamos a ver cómo expandir esos modelos para que realicen múltiples predicciones.\n",
        "\n",
        "En este caso, los modelos tendrán que predecir un rango de valores futuros. Tenemos dos posibilidades para lograr esto:\n",
        "\n",
        "1. **Predición única**. La secuencia completa de salida se predice de una sola vez.\n",
        "1. **Predicciones autorregresivas**. El modelo realiza una única predicción que se utilizar para realimentar el modelo y obtener la siguiente predicción.\n",
        "\n",
        "Vamos a entrenar los modelos para dar 24 horas de predicciones, a partir de 24 horas anteriores. Así que necesitamos definir una nueva ventana que nos de estos datos."
      ]
    },
    {
      "cell_type": "code",
      "metadata": {
        "id": "bFHwJbudv95J"
      },
      "source": [
        "OUT_STEPS = 24\n",
        "multi_window = WindowGenerator(input_width=24,\n",
        "                               label_width=OUT_STEPS,\n",
        "                               offset=OUT_STEPS)\n",
        "\n",
        "multi_window.plot()\n",
        "multi_window"
      ],
      "execution_count": null,
      "outputs": []
    },
    {
      "cell_type": "markdown",
      "metadata": {
        "id": "2M98N-hKv95J"
      },
      "source": [
        "Al definir la ventana no hemos especificado una columna, así que haremos las predicciones para todas las variables del dataset, es decir, tendremos salida múltiple porque tendremos múltiples instantes de tiempo para predecir y para cada uno de estos instantes tendremos todas las variables."
      ]
    },
    {
      "cell_type": "code",
      "metadata": {
        "id": "qARGq7eJv95J"
      },
      "source": [
        "# Placeholders\n",
        "multi_val_performance = {}\n",
        "multi_performance = {}"
      ],
      "execution_count": null,
      "outputs": []
    },
    {
      "cell_type": "markdown",
      "metadata": {
        "id": "8lmUVr7Cv95J"
      },
      "source": [
        "---\n",
        "\n",
        "<a id=\"section41\"></a>\n",
        "### <font color=\"#00586D\">Predicción única</font>\n",
        "<br>\n",
        "\n",
        "Vamos a empezar generando una predicción para la secuencia completa. Esto es muy sencillo de conseguir, basta con modificar la capa densa de salida para tener `OUT_STEPS` unidades en lugar de una.\n",
        "\n",
        "#### <font color=\"#00586D\">Modelo lineal</font>\n",
        "\n",
        "Basándonos en la arquitectura que diseñamos anteriormente, este modelo es demasiado sencillo para la predicción que queremos obtener, ya que vamos a predecir 24 horas a partir de una única hora.\n",
        "\n",
        "<!--img width=\"400px\" src=\"images-notebook/multistep_dense.png\" /-->\n",
        "<img width=\"400px\" src=\"data:image/png;base64,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\" />\n",
        "\n",
        "Aún así, la implementación sería:"
      ]
    },
    {
      "cell_type": "code",
      "metadata": {
        "id": "IQXfb7dSv95J"
      },
      "source": [
        "multi_linear_model = tf.keras.Sequential([\n",
        "    # Take the last time-step.\n",
        "    # Shape [batch, time, features] => [batch, 1, features]\n",
        "    tf.keras.layers.Lambda(lambda x: x[:, -1:, :]),\n",
        "    # Shape => [batch, 1, out_steps*features]\n",
        "    tf.keras.layers.Dense(OUT_STEPS*num_features,\n",
        "                          kernel_initializer=tf.initializers.zeros),\n",
        "    # Shape => [batch, out_steps, features]\n",
        "    tf.keras.layers.Reshape([OUT_STEPS, num_features])\n",
        "])\n",
        "\n",
        "history = compile_and_fit(multi_linear_model, multi_window)\n",
        "\n",
        "IPython.display.clear_output()\n",
        "multi_val_performance['Linear'] = multi_linear_model.evaluate(multi_window.val)\n",
        "multi_performance['Linear'] = multi_linear_model.evaluate(multi_window.test, verbose=0)\n",
        "multi_window.plot(multi_linear_model)"
      ],
      "execution_count": null,
      "outputs": []
    },
    {
      "cell_type": "markdown",
      "metadata": {
        "id": "Px2VQIe6v95K"
      },
      "source": [
        "#### <font color=\"#00586D\">Modelo denso</font>\n",
        "\n",
        "Tenemos una situación similar a la anterior, tenemos un modelo más complejo, pero los datos de entrada son insuficientes."
      ]
    },
    {
      "cell_type": "code",
      "metadata": {
        "id": "0QGWQCuUv95K"
      },
      "source": [
        "multi_dense_model = tf.keras.Sequential([\n",
        "    # Take the last time step.\n",
        "    # Shape [batch, time, features] => [batch, 1, features]\n",
        "    tf.keras.layers.Lambda(lambda x: x[:, -1:, :]),\n",
        "    # Shape => [batch, 1, dense_units]\n",
        "    tf.keras.layers.Dense(512, activation='relu'),\n",
        "    # Shape => [batch, out_steps*features]\n",
        "    tf.keras.layers.Dense(OUT_STEPS*num_features,\n",
        "                          kernel_initializer=tf.initializers.zeros),\n",
        "    # Shape => [batch, out_steps, features]\n",
        "    tf.keras.layers.Reshape([OUT_STEPS, num_features])\n",
        "])\n",
        "\n",
        "history = compile_and_fit(multi_dense_model, multi_window)\n",
        "\n",
        "IPython.display.clear_output()\n",
        "multi_val_performance['Dense'] = multi_dense_model.evaluate(multi_window.val)\n",
        "multi_performance['Dense'] = multi_dense_model.evaluate(multi_window.test, verbose=0)\n",
        "multi_window.plot(multi_dense_model)"
      ],
      "execution_count": null,
      "outputs": []
    },
    {
      "cell_type": "markdown",
      "metadata": {
        "id": "9OwqADwrv95K"
      },
      "source": [
        "#### <font color=\"#00586D\">Red convolucional</font>\n",
        "\n",
        "El modelo convolucional hace predicciones en base a más información, por lo que, simplemente por eso, deberíamos obtener mejores resultados.\n",
        "\n",
        "<!--img width=\"400px\" src=\"images-notebook/multistep_conv.png\" /-->\n",
        "<img width=\"400px\" src=\"data:image/png;base64,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\" />"
      ]
    },
    {
      "cell_type": "code",
      "metadata": {
        "id": "py7hcfrEv95L"
      },
      "source": [
        "CONV_WIDTH = 3\n",
        "multi_conv_model = tf.keras.Sequential([\n",
        "    # Shape [batch, time, features] => [batch, CONV_WIDTH, features]\n",
        "    tf.keras.layers.Lambda(lambda x: x[:, -CONV_WIDTH:, :]),\n",
        "    # Shape => [batch, 1, conv_units]\n",
        "    tf.keras.layers.Conv1D(256, activation='relu', kernel_size=(CONV_WIDTH)),\n",
        "    # Shape => [batch, 1,  out_steps*features]\n",
        "    tf.keras.layers.Dense(OUT_STEPS*num_features,\n",
        "                          kernel_initializer=tf.initializers.zeros),\n",
        "    # Shape => [batch, out_steps, features]\n",
        "    tf.keras.layers.Reshape([OUT_STEPS, num_features])\n",
        "])\n",
        "\n",
        "history = compile_and_fit(multi_conv_model, multi_window)\n",
        "\n",
        "IPython.display.clear_output()\n",
        "\n",
        "multi_val_performance['Conv'] = multi_conv_model.evaluate(multi_window.val)\n",
        "multi_performance['Conv'] = multi_conv_model.evaluate(multi_window.test, verbose=0)\n",
        "multi_window.plot(multi_conv_model)"
      ],
      "execution_count": null,
      "outputs": []
    },
    {
      "cell_type": "markdown",
      "metadata": {
        "id": "NvH_87mYv95L"
      },
      "source": [
        "#### <font color=\"#00586D\">Red recurrente</font>\n",
        "\n",
        "El modelo recurrente puede utilizar la información completa de entrada para entrenar y, tras \"estudiar\" esas 24 horas, dar su predicción para las 24 horas siguientes. Es decir, el modelo debe generar una única salida, así que debemos utilizar `return_sequences=False`.\n",
        "\n",
        "<!--img width=\"400px\" src=\"images-notebook/multistep_lstm.png\" /-->\n",
        "<img width=\"400px\" src=\"data:image/png;base64,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\" />"
      ]
    },
    {
      "cell_type": "code",
      "metadata": {
        "id": "3HHyyS61v95L"
      },
      "source": [
        "multi_lstm_model = tf.keras.Sequential([\n",
        "    # Shape [batch, time, features] => [batch, lstm_units]\n",
        "    # Adding more `lstm_units` just overfits more quickly.\n",
        "    tf.keras.layers.LSTM(32, return_sequences=False),\n",
        "    # Shape => [batch, out_steps*features]\n",
        "    tf.keras.layers.Dense(OUT_STEPS*num_features,\n",
        "                          kernel_initializer=tf.initializers.zeros),\n",
        "    # Shape => [batch, out_steps, features]\n",
        "    tf.keras.layers.Reshape([OUT_STEPS, num_features])\n",
        "])\n",
        "\n",
        "history = compile_and_fit(multi_lstm_model, multi_window)\n",
        "\n",
        "IPython.display.clear_output()\n",
        "\n",
        "multi_val_performance['LSTM'] = multi_lstm_model.evaluate(multi_window.val)\n",
        "multi_performance['LSTM'] = multi_lstm_model.evaluate(multi_window.test, verbose=0)\n",
        "multi_window.plot(multi_lstm_model)"
      ],
      "execution_count": null,
      "outputs": []
    },
    {
      "cell_type": "markdown",
      "metadata": {
        "id": "rTtMrNKMv95L"
      },
      "source": [
        "---\n",
        "\n",
        "<a id=\"section42\"></a>\n",
        "### <font color=\"#00586D\">Predicción autorregresiva</font>\n",
        "<br>\n",
        "\n",
        "Los modelos anteriores daban la secuencia de predicción en un único paso. Sin embargo, en algunos casos puede ser útil descomponer esta predicción en pasos individuales. Así la salida del modelo se puede utilizar para realimentar el propio modelo y que cada predicción dependa de la predicción anterior.\n",
        "\n",
        "Este tipo de aproximación permite tener salidas de tamaño variable.\n",
        "\n",
        "<br>\n",
        "\n",
        "Podríamos utilizar cualquiera de los modelos que hemos entrenado hasta ahora como modelo autorregresivo, pero vamos a centrarnos el los modelos que explícitamente están preparados para hacer esto, es decir, las RNNs.\n",
        "\n",
        "<!--img width=\"400px\" src=\"images-notebook/multistep_autoregressive.png\" /-->\n",
        "<img width=\"400px\" src=\"data:image/png;base64,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\" />\n",
        "\n",
        "\n",
        "Así que ahora, vamos a construir un modelo RNN autorregresivo. Este nuevo modelo será igual que el modelo LSTM que hemos diseñado anteriormente para dar una única salida (predecir un único valor): una capa LSTM seguida de una capa densa para la salida.\n",
        "\n",
        "Una capa LSTM es una capa de unidades LSTM (`tf.layers.LSTMCell`) encapsuladas en una capa recurrente (`tf.layers.RNN`) que gestiona el estado y los resultados secuenciales. Más detalles [aquí](https://www.tensorflow.org/guide/keras/rnn).\n",
        "\n",
        "Como tenemos que gestionar las entradas para cada paso vamos a utilizar `tf.layers.LSTMCell` directamente."
      ]
    },
    {
      "cell_type": "code",
      "metadata": {
        "id": "TGrWceUfv95M"
      },
      "source": [
        "class FeedBack(tf.keras.Model):\n",
        "    def __init__(self, units, out_steps):\n",
        "        super().__init__()\n",
        "        self.out_steps = out_steps\n",
        "        self.units = units\n",
        "        self.lstm_cell = tf.keras.layers.LSTMCell(units)\n",
        "        # Also wrap the LSTMCell in an RNN to simplify the `warmup` method.\n",
        "        self.lstm_rnn = tf.keras.layers.RNN(self.lstm_cell, return_state=True)\n",
        "        self.dense = tf.keras.layers.Dense(num_features)"
      ],
      "execution_count": null,
      "outputs": []
    },
    {
      "cell_type": "code",
      "metadata": {
        "id": "cbvZhbQlv95M"
      },
      "source": [
        "feedback_model = FeedBack(units=32, out_steps=OUT_STEPS)"
      ],
      "execution_count": null,
      "outputs": []
    },
    {
      "cell_type": "markdown",
      "metadata": {
        "id": "Iz2kwVpsv95M"
      },
      "source": [
        "Ahora vamos a definir algunos métodos adicionales que necesitaremos en el modelo.\n",
        "\n",
        "Lo primero es definir un método `warmup` que inicialice el estado interno basado en las entradas. Una vez se haya entrenado, este estado capturará la información relevante de los datos de entrada pasados. Es equivalente las modelo LSTM que predecía un único instante de tiempo."
      ]
    },
    {
      "cell_type": "code",
      "metadata": {
        "id": "5SVqdYNTv95M"
      },
      "source": [
        "def warmup(self, inputs):\n",
        "    # inputs.shape => (batch, time, features)\n",
        "    # x.shape => (batch, lstm_units)\n",
        "    x, *state = self.lstm_rnn(inputs)\n",
        "\n",
        "    # predictions.shape => (batch, features)\n",
        "    prediction = self.dense(x)\n",
        "    return prediction, state\n",
        "\n",
        "FeedBack.warmup = warmup"
      ],
      "execution_count": null,
      "outputs": []
    },
    {
      "cell_type": "markdown",
      "metadata": {
        "id": "TlC8kyeCv95M"
      },
      "source": [
        "Este método devuelve la predicción para un único instante y el estado de los nodos LSTM:"
      ]
    },
    {
      "cell_type": "code",
      "metadata": {
        "id": "oqXAwJjPv95M"
      },
      "source": [
        "prediction, state = feedback_model.warmup(multi_window.example[0])\n",
        "prediction.shape"
      ],
      "execution_count": null,
      "outputs": []
    },
    {
      "cell_type": "markdown",
      "metadata": {
        "id": "iDn8VnCUv95M"
      },
      "source": [
        "Con el estado de la RNN y una predicción inicial podemos continuar iterando el modelo utilizando las predicciones para cada instante de tiempo como entrada."
      ]
    },
    {
      "cell_type": "code",
      "metadata": {
        "id": "jSXeLknhv95N"
      },
      "source": [
        "def call(self, inputs, training=None):\n",
        "    # Use a TensorArray to capture dynamically unrolled outputs.\n",
        "    predictions = []\n",
        "    # Initialize the lstm state\n",
        "    prediction, state = self.warmup(inputs)\n",
        "\n",
        "    # Insert the first prediction\n",
        "    predictions.append(prediction)\n",
        "\n",
        "    # Run the rest of the prediction steps\n",
        "    for n in range(1, self.out_steps):\n",
        "        # Use the last prediction as input.\n",
        "        x = prediction\n",
        "        # Execute one lstm step.\n",
        "        x, state = self.lstm_cell(x, states=state,\n",
        "                                  training=training)\n",
        "        # Convert the lstm output to a prediction.\n",
        "        prediction = self.dense(x)\n",
        "        # Add the prediction to the output\n",
        "        predictions.append(prediction)\n",
        "\n",
        "    # predictions.shape => (time, batch, features)\n",
        "    predictions = tf.stack(predictions)\n",
        "    # predictions.shape => (batch, time, features)\n",
        "    predictions = tf.transpose(predictions, [1, 0, 2])\n",
        "    return predictions\n",
        "\n",
        "FeedBack.call = call"
      ],
      "execution_count": null,
      "outputs": []
    },
    {
      "cell_type": "markdown",
      "metadata": {
        "id": "wQKJfzl2v95N"
      },
      "source": [
        "Ahora enternamos el modelo y lo evaluamos:"
      ]
    },
    {
      "cell_type": "code",
      "metadata": {
        "id": "62JaSmUtv95N"
      },
      "source": [
        "history = compile_and_fit(feedback_model, multi_window)\n",
        "\n",
        "IPython.display.clear_output()\n",
        "\n",
        "multi_val_performance['AR LSTM'] = feedback_model.evaluate(multi_window.val)\n",
        "multi_performance['AR LSTM'] = feedback_model.evaluate(multi_window.test, verbose=0)\n",
        "multi_window.plot(feedback_model)"
      ],
      "execution_count": null,
      "outputs": []
    },
    {
      "cell_type": "markdown",
      "metadata": {
        "id": "xDN1S9wHv95N"
      },
      "source": [
        "---\n",
        "\n",
        "<a id=\"section43\"></a>\n",
        "### <font color=\"#00586D\">Comparativa</font>\n",
        "<br>\n",
        "\n",
        "Como podemos ver en el siguiente gráfico, el error disminuye (aunque muy poco) al aumentar la complejidad del modelo."
      ]
    },
    {
      "cell_type": "code",
      "metadata": {
        "id": "O1Dd-9q9v95N"
      },
      "source": [
        "x = np.arange(len(multi_performance))\n",
        "width = 0.3\n",
        "\n",
        "\n",
        "metric_name = 'mean_absolute_error'\n",
        "metric_index = lstm_model.metrics_names.index('mean_absolute_error')\n",
        "val_mae = [v[metric_index] for v in multi_val_performance.values()]\n",
        "test_mae = [v[metric_index] for v in multi_performance.values()]\n",
        "\n",
        "plt.bar(x - 0.17, val_mae, width, label='Validation')\n",
        "plt.bar(x + 0.17, test_mae, width, label='Test')\n",
        "plt.xticks(ticks=x, labels=multi_performance.keys(),\n",
        "           rotation=45)\n",
        "plt.ylabel(f'MAE (average over all times and outputs)')\n",
        "_ = plt.legend()"
      ],
      "execution_count": null,
      "outputs": []
    },
    {
      "cell_type": "markdown",
      "metadata": {
        "id": "PtxXql7Lv95N"
      },
      "source": [
        "Aunque en el caso de la autorregresión, no obtenemos resultados comparables al resto."
      ]
    },
    {
      "cell_type": "markdown",
      "metadata": {
        "id": "Z3EX_YJkv95N"
      },
      "source": [
        "<div style=\"text-align: right\">\n",
        "<a href=\"#indice\"><font size=5><i class=\"fa fa-arrow-circle-up\" aria-hidden=\"true\" style=\"color:#00586D\"></i></font></a>\n",
        "</div>\n",
        "\n",
        "---\n",
        "\n",
        "<div style=\"text-align: right\"> <font size=6><i class=\"fa fa-coffee\" aria-hidden=\"true\" style=\"color:#00586D\"></i> </font></div>"
      ]
    }
  ]
}