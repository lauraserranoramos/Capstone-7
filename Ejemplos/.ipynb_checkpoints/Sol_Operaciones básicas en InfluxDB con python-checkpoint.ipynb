{
 "cells": [
  {
   "cell_type": "markdown",
   "metadata": {},
   "source": [
    "<img src=\"img/mCIDaeNnb.png\" alt=\"Logo CiDAEN\" align=\"right\">\n",
    "\n",
    "\n",
    "\n",
    "\n",
    "<br><br><br>\n",
    "<h2><font color=\"#00586D\" size=4>Módulo 7</font></h2>\n",
    "\n",
    "\n",
    "\n",
    "<h1><font color=\"#00586D\" size=5>Operaciones básicas con InfluxDB</font></h1>\n",
    "\n",
    "<br><br><br>\n",
    "<div style=\"text-align: right\">\n",
    "<font color=\"#00586D\" size=3>Enrique González</font><br>\n",
    "<font color=\"#00586D\" size=3>Máster en Ciencia de Datos e Ingeniería de Datos en la Nube III </font><br>\n",
    "<font color=\"#00586D\" size=3>Universidad de Castilla-La Mancha</font>\n",
    "\n",
    "</div>"
   ]
  },
  {
   "cell_type": "markdown",
   "metadata": {},
   "source": [
    "---\n",
    "\n",
    "<a id=\"indice\"></a>\n",
    "<h2><font color=\"#00586D\" size=5>Índice</font></h2>\n",
    "\n",
    "\n",
    "* [1. Introducción](#section1)\n",
    "* [2. Ingesta de datos](#section2)\n",
    "* [3. Consulta de datos](#section3)"
   ]
  },
  {
   "cell_type": "code",
   "execution_count": 1,
   "metadata": {
    "tags": []
   },
   "outputs": [
    {
     "data": {
      "text/html": [
       "<style>.container { width:95% !important; }</style>"
      ],
      "text/plain": [
       "<IPython.core.display.HTML object>"
      ]
     },
     "metadata": {},
     "output_type": "display_data"
    }
   ],
   "source": [
    "import matplotlib.pyplot as plt\n",
    "\n",
    "# Optimiza los gráficos para pantalla retina\n",
    "%config InlineBackend.figure_format = 'retina'\n",
    "# Por defecto usamos el backend inline\n",
    "%matplotlib inline\n",
    "\n",
    "# Oculta warnings\n",
    "import warnings\n",
    "warnings.simplefilter('ignore')\n",
    "\n",
    "# La libreta ocupa así el 95% de la pantalla\n",
    "from IPython.core.display import display, HTML\n",
    "display(HTML(\"<style>.container { width:95% !important; }</style>\"))"
   ]
  },
  {
   "cell_type": "markdown",
   "metadata": {},
   "source": [
    "---\n",
    "\n",
    "<a id=\"section1\"></a>\n",
    "## <font color=\"#00586D\"> 1. Introducción</font>\n",
    "<br>"
   ]
  },
  {
   "cell_type": "markdown",
   "metadata": {},
   "source": [
    "En esta práctica introducimos las operaciones básicas sobre InfluxDB mediante el uso de su librería para Python. Para ello, en esta práctica utilizaremos los datos que venimos utilizando en otras prácticas y crearemos una base de datos de series temporales usándo estos datos, que luego pasaremos a consultar. "
   ]
  },
  {
   "cell_type": "markdown",
   "metadata": {},
   "source": [
    "<div class=\"alert alert-block alert-warning\">\n",
    "    \n",
    "<i class=\"fa fa-exclamation-circle\" aria-hidden=\"true\"></i>\n",
    "__Recordad__: Cread un `virtualenv` e instalad las librerias del `requirement.txt`para poder continuar con la práctica.  \n",
    "</div>"
   ]
  },
  {
   "cell_type": "code",
   "execution_count": 2,
   "metadata": {
    "tags": []
   },
   "outputs": [],
   "source": [
    "from influxdb import InfluxDBClient"
   ]
  },
  {
   "cell_type": "markdown",
   "metadata": {},
   "source": [
    "Para facilitar el acceso a la descripción de estos datos, os la incluyo a continuación. "
   ]
  },
  {
   "cell_type": "markdown",
   "metadata": {},
   "source": [
    "Son datos meteorológicos de dos estaciones meteorológicas españolas, la estación meteorológica del Retiro en Madrid y la estación meteorológica de La Coruña. Estos datos los podéis encontrar en `datos/meteo_retiro.csv`, con datos meteorológicos diarios desde el 1 de Enero de 1920 y `datos/meteo_coruña.csv`, con datos meteorológicos desde el 1 de Octubre de 1930.  "
   ]
  },
  {
   "cell_type": "markdown",
   "metadata": {},
   "source": [
    "A continuación os indicamos la descripción de cada una de las columnas presentes en estas tablas:\n",
    "\n",
    "- `FECHA`: Fecha en formato (aaaa-mm-dd) . Si lo abre con una hoja de cálculo, es posible que interprete el campo como fecha y lo vea en el formato habitual dd/mm/aaaa\n",
    "- `INDICATIVO`: Identificador de Estación Meteorológica (Valor de 4 ó 5 caracteres)\n",
    "- `NOMBRE`: Nombre de la Estación\n",
    "- `PROVINCIA`: Provincia en la que se encuentra\n",
    "- `ALTITUD`: Altitud (metros)\n",
    "- `TMEDIA`: Temperatura media (ºC)\n",
    "- `PRECIPITACION`: Precipitación (mm = l/m2)\n",
    "- `TMIN`: Temperatura minima (ºC)\n",
    "- `HORATMIN`: Hora de Temperatura mínima (hh:mm)\n",
    "- `TMAX`: Temperatura Máxima (ºC)\n",
    "- `HORATMAX`: Hora de Temperatura máxima (hh:mm)\n",
    "- `DIR`: Dirección del viento (decenas de grado)\n",
    "- `VELMEDIA`: Velocidad media (m/s)\n",
    "- `RACHA`: Racha (m/s)\n",
    "- `HORARACHA`: Hora Racha (hh:mm)\n",
    "- `SOL`: Horas de Sol (horas)\n",
    "- `PRESMAX`: Presión máxima (hPa)\n",
    "- `HORAPRESMAX`: Hora de Presión Máxima (hh:mm)\n",
    "- `PRESMIN`: Presión Mínima (hPa)\n",
    "- `HORAPRESMIN`: Hora de Presión Mínima (hh:mm)\n"
   ]
  },
  {
   "cell_type": "markdown",
   "metadata": {},
   "source": [
    "<div style=\"text-align: right\">\n",
    "<a href=\"#indice\"><font size=5><i class=\"fa fa-arrow-circle-up\" aria-hidden=\"true\" style=\"color:#00586D\"></i></font></a>\n",
    "</div>"
   ]
  },
  {
   "cell_type": "markdown",
   "metadata": {},
   "source": [
    "---\n",
    "\n",
    "<a id=\"section2\"></a>\n",
    "## <font color=\"#00586D\"> 2. Creación y administración de usuarios</font>\n",
    "<br>"
   ]
  },
  {
   "cell_type": "markdown",
   "metadata": {},
   "source": [
    "Como ya os proporcionamos un servicio de InfluxDB mediante la su imagen de Docker, podéis acceder al bucket creado al inicio de este usando las credenciales que podéis encontrar a continuación. Es esta celda la que tendríais que modificar si quisiérais usar otra instancia de InfluxDB (a través de su cloud, un despliegue on-premise, etc.). Asimismo, si tenéis inquietud, como tenéis acceso administrador al influxdb local, podéis crear otros usuarios o buckets con el objetivo de explorar un poco más las características de esta base de datos."
   ]
  },
  {
   "cell_type": "code",
   "execution_count": 3,
   "metadata": {
    "tags": []
   },
   "outputs": [],
   "source": [
    "from datetime import datetime\n",
    "\n",
    "from influxdb_client import InfluxDBClient, Point, WritePrecision\n",
    "from influxdb_client.client.write_api import SYNCHRONOUS\n",
    "\n",
    "# You can generate a Token from the \"Tokens Tab\" in the UI\n",
    "token = \"mcidaen_token\"\n",
    "org = \"mcidaen\"\n",
    "bucket = \"mod7\"\n",
    "\n",
    "client = InfluxDBClient(\"http://influxdb:8086\", token=token, org=org)"
   ]
  },
  {
   "cell_type": "markdown",
   "metadata": {},
   "source": [
    "<div style=\"text-align: right\">\n",
    "<a href=\"#indice\"><font size=5><i class=\"fa fa-arrow-circle-up\" aria-hidden=\"true\" style=\"color:#00586D\"></i></font></a>\n",
    "</div>"
   ]
  },
  {
   "cell_type": "markdown",
   "metadata": {},
   "source": [
    "---\n",
    "\n",
    "<a id=\"section2\"></a>\n",
    "## <font color=\"#00586D\"> 3. Ingesta de datos</font>\n",
    "<br>"
   ]
  },
  {
   "cell_type": "markdown",
   "metadata": {},
   "source": [
    "Una vez que ya tenemos el cliente de InfluxDB, el siguiente paso será escribir los datos en nuestra recién creada base de datos. Podríamos escribir los datos directamente en el _Line Protocol Format_, sin embargo usando la librería de `python` nos permite utilizar métodos un poco más cómodos.  Nosotros vamos a ver dos formas de hacerlo, a través de un diccionario de `python` y usando un Dataframe de `pandas` (podéis encontrar la lista completa de métodos para escritura de datos [aquí](https://influxdb-client.readthedocs.io/en/latest/usage.html#write)). En primer lugar, vamos a crear un cliente de escritura síncrono, usando la celda a continuación. "
   ]
  },
  {
   "cell_type": "code",
   "execution_count": 4,
   "metadata": {
    "tags": []
   },
   "outputs": [],
   "source": [
    "write_api = client.write_api(write_options=SYNCHRONOUS)"
   ]
  },
  {
   "cell_type": "markdown",
   "metadata": {},
   "source": [
    "Para ambos métodos tenéis que recordar el modelo de datos que soporta InfluxDB. Como vimos, tiene 4 componentes fundamentales:\n",
    "- _timestamp_: el instante de tiempo en el que se produce el dato.\n",
    "- _measurement_: el indicador sobre qué representan los valores (censo, producción, etc.)\n",
    "- _tags_: metadatos de las series. Se indexan y nos permiten distinguir, por ejemplo, entre lugares, dispositivos, etc.\n",
    "- _fields_: valores almacenados para cada _measurement_. No se indexan. \n",
    "\n"
   ]
  },
  {
   "cell_type": "markdown",
   "metadata": {},
   "source": [
    "Para poder escribir en la base de datos usando un diccionario, tendréis que especificar todos estos campos de vuestro dato. Por ejemplo, para continuar con el ejemplo que veíamos en teoría, vamos a crear el primer _data point_ de los datos del censo de insectos (hemos añadido un campo adicional para ejemplificar esto también). "
   ]
  },
  {
   "cell_type": "code",
   "execution_count": 5,
   "metadata": {
    "tags": []
   },
   "outputs": [],
   "source": [
    "import datetime\n",
    "\n",
    "point = {\n",
    "    'time': datetime.datetime.utcnow(),\n",
    "    'measurement': 'census',\n",
    "    'tags': {'location': 'klamath', 'scientist': 'enrique'},\n",
    "    'fields': {'bees': 23, 'ants': 20}\n",
    "}"
   ]
  },
  {
   "cell_type": "markdown",
   "metadata": {},
   "source": [
    "Una vez con estos datos, podemos escribirlos directamente en nuestra instancia de InfluxDB usando el siguiente comando. "
   ]
  },
  {
   "cell_type": "code",
   "execution_count": 6,
   "metadata": {
    "tags": []
   },
   "outputs": [],
   "source": [
    "write_api.write(bucket, org, point)"
   ]
  },
  {
   "cell_type": "markdown",
   "metadata": {},
   "source": [
    "Podéis escribir varios datos, modificando el código anterior para tener datos de prueba. Este método nos puede servir para enviar datos a InfluxDB que provengan de datos recogidos de una API, sensor, etc. Sin embargo, a veces tendremos los datos ya en un formato de tabla y querremos guardarlos en el bucket. Podemos hacerlo mediante un DataFrame de `pandas`. Para ello, primero vamos a construir uno de ejemplo. "
   ]
  },
  {
   "cell_type": "code",
   "execution_count": 7,
   "metadata": {
    "tags": []
   },
   "outputs": [
    {
     "data": {
      "text/html": [
       "<div>\n",
       "<style scoped>\n",
       "    .dataframe tbody tr th:only-of-type {\n",
       "        vertical-align: middle;\n",
       "    }\n",
       "\n",
       "    .dataframe tbody tr th {\n",
       "        vertical-align: top;\n",
       "    }\n",
       "\n",
       "    .dataframe thead th {\n",
       "        text-align: right;\n",
       "    }\n",
       "</style>\n",
       "<table border=\"1\" class=\"dataframe\">\n",
       "  <thead>\n",
       "    <tr style=\"text-align: right;\">\n",
       "      <th></th>\n",
       "      <th>location</th>\n",
       "      <th>scientist</th>\n",
       "      <th>bees</th>\n",
       "      <th>ants</th>\n",
       "    </tr>\n",
       "  </thead>\n",
       "  <tbody>\n",
       "    <tr>\n",
       "      <th>2022-02-19 10:30:00</th>\n",
       "      <td>klamath</td>\n",
       "      <td>anderson</td>\n",
       "      <td>10.0</td>\n",
       "      <td>20.0</td>\n",
       "    </tr>\n",
       "    <tr>\n",
       "      <th>2022-02-19 10:30:00</th>\n",
       "      <td>klamath</td>\n",
       "      <td>peterson</td>\n",
       "      <td>15.0</td>\n",
       "      <td>10.0</td>\n",
       "    </tr>\n",
       "    <tr>\n",
       "      <th>2022-02-19 11:00:00</th>\n",
       "      <td>klamath</td>\n",
       "      <td>anderson</td>\n",
       "      <td>12.0</td>\n",
       "      <td>23.0</td>\n",
       "    </tr>\n",
       "    <tr>\n",
       "      <th>2022-02-19 11:00:00</th>\n",
       "      <td>klamath</td>\n",
       "      <td>peterson</td>\n",
       "      <td>14.0</td>\n",
       "      <td>9.0</td>\n",
       "    </tr>\n",
       "    <tr>\n",
       "      <th>2022-02-19 11:30:00</th>\n",
       "      <td>klamath</td>\n",
       "      <td>anderson</td>\n",
       "      <td>12.0</td>\n",
       "      <td>25.0</td>\n",
       "    </tr>\n",
       "    <tr>\n",
       "      <th>2022-02-19 11:30:00</th>\n",
       "      <td>klamath</td>\n",
       "      <td>peterson</td>\n",
       "      <td>14.0</td>\n",
       "      <td>9.0</td>\n",
       "    </tr>\n",
       "  </tbody>\n",
       "</table>\n",
       "</div>"
      ],
      "text/plain": [
       "                    location scientist  bees  ants\n",
       "2022-02-19 10:30:00  klamath  anderson  10.0  20.0\n",
       "2022-02-19 10:30:00  klamath  peterson  15.0  10.0\n",
       "2022-02-19 11:00:00  klamath  anderson  12.0  23.0\n",
       "2022-02-19 11:00:00  klamath  peterson  14.0   9.0\n",
       "2022-02-19 11:30:00  klamath  anderson  12.0  25.0\n",
       "2022-02-19 11:30:00  klamath  peterson  14.0   9.0"
      ]
     },
     "execution_count": 7,
     "metadata": {},
     "output_type": "execute_result"
    }
   ],
   "source": [
    "import pandas as pd\n",
    "\n",
    "now = datetime.datetime.utcnow()\n",
    "df = pd.DataFrame(\n",
    "    data=[\n",
    "        [\"klamath\", \"anderson\", 10.0, 20.0], \n",
    "        [\"klamath\", \"peterson\", 15.0, 10.0], \n",
    "        [\"klamath\", \"anderson\", 12.0, 23.0], \n",
    "        [\"klamath\", \"peterson\", 14.0, 9.0], \n",
    "        [\"klamath\", \"anderson\", 12.0, 25.0], \n",
    "        [\"klamath\", \"peterson\", 14.0, 9.0], \n",
    "    ],                       \n",
    "    index=[\n",
    "        datetime.datetime(2022, 2, 19, 10, 30), \n",
    "        datetime.datetime(2022, 2, 19, 10, 30), \n",
    "        datetime.datetime(2022, 2, 19, 11, 0), \n",
    "        datetime.datetime(2022, 2, 19, 11, 0), \n",
    "        datetime.datetime(2022, 2, 19, 11, 30),\n",
    "        datetime.datetime(2022, 2, 19, 11, 30), \n",
    "    ],\n",
    "    columns=[\"location\", \"scientist\", \"bees\", \"ants\"]\n",
    ")\n",
    "\n",
    "df"
   ]
  },
  {
   "cell_type": "markdown",
   "metadata": {},
   "source": [
    "Como veis, en el dataframe hemos incluído columnas tanto para las etiquetas como para los valores. Además, hemos incluído el tiempo en el índice (como ya hemos venido trabajando en prácticas anteriores). Ahora escribimos en una nueva medida, llamada `census2`. "
   ]
  },
  {
   "cell_type": "code",
   "execution_count": 8,
   "metadata": {
    "tags": []
   },
   "outputs": [],
   "source": [
    "write_api.write(bucket, org, record=df, data_frame_measurement_name='census2', data_frame_tag_columns=['location', 'scientist'])"
   ]
  },
  {
   "cell_type": "markdown",
   "metadata": {},
   "source": [
    "Como se puede ver en la celda anterior, para escribir los datos de un `DataFrame` en `influxdb` simplemente necesitamos pasar los datos en el parámetro `record` e indicar el nombre de la medida y la lista columnas que se corresponderan con nuestros tags. Con estas nuevas operaciones deberíais estar en condiciones para poder escribir series temporales en InfluxDB. Vamos a ver como podemos consultar la base de datos. "
   ]
  },
  {
   "cell_type": "markdown",
   "metadata": {},
   "source": [
    "<div style=\"text-align: right\">\n",
    "<a href=\"#indice\"><font size=5><i class=\"fa fa-arrow-circle-up\" aria-hidden=\"true\" style=\"color:#00586D\"></i></font></a>\n",
    "</div>"
   ]
  },
  {
   "cell_type": "markdown",
   "metadata": {},
   "source": [
    "---\n",
    "\n",
    "<a id=\"section2\"></a>\n",
    "## <font color=\"#00586D\"> 4. Consulta de datos</font>\n",
    "<br>"
   ]
  },
  {
   "cell_type": "markdown",
   "metadata": {},
   "source": [
    "Para consultar `influxdb` necesitaremos usar el lenguaje Flux. Esta query nos puede proporcionar los datos en diferentes estructuras. Veremos la estructura de datos nativa y también veremos como obtener los datos en un DataFrame. En primer lugar, vamos a ver como tomar los datos completos de la serie `census2` que hemos creado antes. "
   ]
  },
  {
   "cell_type": "code",
   "execution_count": 9,
   "metadata": {
    "tags": []
   },
   "outputs": [],
   "source": [
    "query = (\n",
    "f'from(bucket: \"{bucket}\")'\n",
    "f'  |> range(start: 2022-02-19T10:00:00Z, stop: 2022-02-19T12:00:00Z)'\n",
    ")"
   ]
  },
  {
   "cell_type": "markdown",
   "metadata": {},
   "source": [
    "Para realizar una consulta primero podemos crear el objeto de consulta de la librería. "
   ]
  },
  {
   "cell_type": "code",
   "execution_count": 10,
   "metadata": {
    "tags": []
   },
   "outputs": [],
   "source": [
    "query_client = client.query_api()"
   ]
  },
  {
   "cell_type": "markdown",
   "metadata": {},
   "source": [
    "Y con este, podemos directamente lanzar la consulta a la base de datos (deberemos indicar eso sí, el identificador de nuestra cuenta)."
   ]
  },
  {
   "cell_type": "code",
   "execution_count": 11,
   "metadata": {
    "tags": []
   },
   "outputs": [
    {
     "data": {
      "text/plain": [
       "[<FluxTable: 10 columns, 3 records>,\n",
       " <FluxTable: 10 columns, 3 records>,\n",
       " <FluxTable: 10 columns, 3 records>,\n",
       " <FluxTable: 10 columns, 3 records>]"
      ]
     },
     "execution_count": 11,
     "metadata": {},
     "output_type": "execute_result"
    }
   ],
   "source": [
    "tables = query_client.query(query, org=org)\n",
    "tables"
   ]
  },
  {
   "cell_type": "markdown",
   "metadata": {},
   "source": [
    "Como podéis ver, la consulta nos devuelve una serie de tablas. La separación en tablas depende del tipo de consulta que hagamos. En este caso, las tablas se separan por la clave de la serie (_measurement_, _tags_, _field_). Para cada tabla tendremos una serie de registros y esos registros tendrán una serie de valores (que son los datos que habremos insertado en la sección anterior). Veamos los datos del primer registro de la primera tabla retornada. "
   ]
  },
  {
   "cell_type": "code",
   "execution_count": 12,
   "metadata": {
    "tags": []
   },
   "outputs": [
    {
     "data": {
      "text/plain": [
       "{'result': '_result',\n",
       " 'table': 0,\n",
       " '_start': datetime.datetime(2022, 2, 19, 10, 0, tzinfo=tzlocal()),\n",
       " '_stop': datetime.datetime(2022, 2, 19, 12, 0, tzinfo=tzlocal()),\n",
       " '_time': datetime.datetime(2022, 2, 19, 10, 30, tzinfo=tzlocal()),\n",
       " '_value': 20.0,\n",
       " '_field': 'ants',\n",
       " '_measurement': 'census2',\n",
       " 'location': 'klamath',\n",
       " 'scientist': 'anderson'}"
      ]
     },
     "execution_count": 12,
     "metadata": {},
     "output_type": "execute_result"
    }
   ],
   "source": [
    "tables[0].records[0].values"
   ]
  },
  {
   "cell_type": "markdown",
   "metadata": {},
   "source": [
    "Aunque esta forma nos permite un control más de bajo nivel de como tratamos los datos retornados, suele ser cómodo poder hacer consultas que retornen un dataframe. Veamos como hacerlo a continuación. La siguiente llamada puede devolver varios DataFrames dependiendo de lo que hagamos en la consulta y especialmente si trabajamos con más de una medida. "
   ]
  },
  {
   "cell_type": "code",
   "execution_count": 13,
   "metadata": {
    "tags": []
   },
   "outputs": [
    {
     "data": {
      "text/html": [
       "<div>\n",
       "<style scoped>\n",
       "    .dataframe tbody tr th:only-of-type {\n",
       "        vertical-align: middle;\n",
       "    }\n",
       "\n",
       "    .dataframe tbody tr th {\n",
       "        vertical-align: top;\n",
       "    }\n",
       "\n",
       "    .dataframe thead th {\n",
       "        text-align: right;\n",
       "    }\n",
       "</style>\n",
       "<table border=\"1\" class=\"dataframe\">\n",
       "  <thead>\n",
       "    <tr style=\"text-align: right;\">\n",
       "      <th></th>\n",
       "      <th>result</th>\n",
       "      <th>table</th>\n",
       "      <th>_start</th>\n",
       "      <th>_stop</th>\n",
       "      <th>_time</th>\n",
       "      <th>_value</th>\n",
       "      <th>_field</th>\n",
       "      <th>_measurement</th>\n",
       "      <th>location</th>\n",
       "      <th>scientist</th>\n",
       "    </tr>\n",
       "  </thead>\n",
       "  <tbody>\n",
       "    <tr>\n",
       "      <th>0</th>\n",
       "      <td>_result</td>\n",
       "      <td>0</td>\n",
       "      <td>2022-02-19 10:00:00+00:00</td>\n",
       "      <td>2022-02-19 12:00:00+00:00</td>\n",
       "      <td>2022-02-19 10:30:00+00:00</td>\n",
       "      <td>20.0</td>\n",
       "      <td>ants</td>\n",
       "      <td>census2</td>\n",
       "      <td>klamath</td>\n",
       "      <td>anderson</td>\n",
       "    </tr>\n",
       "    <tr>\n",
       "      <th>1</th>\n",
       "      <td>_result</td>\n",
       "      <td>0</td>\n",
       "      <td>2022-02-19 10:00:00+00:00</td>\n",
       "      <td>2022-02-19 12:00:00+00:00</td>\n",
       "      <td>2022-02-19 11:00:00+00:00</td>\n",
       "      <td>23.0</td>\n",
       "      <td>ants</td>\n",
       "      <td>census2</td>\n",
       "      <td>klamath</td>\n",
       "      <td>anderson</td>\n",
       "    </tr>\n",
       "    <tr>\n",
       "      <th>2</th>\n",
       "      <td>_result</td>\n",
       "      <td>0</td>\n",
       "      <td>2022-02-19 10:00:00+00:00</td>\n",
       "      <td>2022-02-19 12:00:00+00:00</td>\n",
       "      <td>2022-02-19 11:30:00+00:00</td>\n",
       "      <td>25.0</td>\n",
       "      <td>ants</td>\n",
       "      <td>census2</td>\n",
       "      <td>klamath</td>\n",
       "      <td>anderson</td>\n",
       "    </tr>\n",
       "    <tr>\n",
       "      <th>3</th>\n",
       "      <td>_result</td>\n",
       "      <td>1</td>\n",
       "      <td>2022-02-19 10:00:00+00:00</td>\n",
       "      <td>2022-02-19 12:00:00+00:00</td>\n",
       "      <td>2022-02-19 10:30:00+00:00</td>\n",
       "      <td>10.0</td>\n",
       "      <td>bees</td>\n",
       "      <td>census2</td>\n",
       "      <td>klamath</td>\n",
       "      <td>anderson</td>\n",
       "    </tr>\n",
       "    <tr>\n",
       "      <th>4</th>\n",
       "      <td>_result</td>\n",
       "      <td>1</td>\n",
       "      <td>2022-02-19 10:00:00+00:00</td>\n",
       "      <td>2022-02-19 12:00:00+00:00</td>\n",
       "      <td>2022-02-19 11:00:00+00:00</td>\n",
       "      <td>12.0</td>\n",
       "      <td>bees</td>\n",
       "      <td>census2</td>\n",
       "      <td>klamath</td>\n",
       "      <td>anderson</td>\n",
       "    </tr>\n",
       "    <tr>\n",
       "      <th>5</th>\n",
       "      <td>_result</td>\n",
       "      <td>1</td>\n",
       "      <td>2022-02-19 10:00:00+00:00</td>\n",
       "      <td>2022-02-19 12:00:00+00:00</td>\n",
       "      <td>2022-02-19 11:30:00+00:00</td>\n",
       "      <td>12.0</td>\n",
       "      <td>bees</td>\n",
       "      <td>census2</td>\n",
       "      <td>klamath</td>\n",
       "      <td>anderson</td>\n",
       "    </tr>\n",
       "    <tr>\n",
       "      <th>6</th>\n",
       "      <td>_result</td>\n",
       "      <td>2</td>\n",
       "      <td>2022-02-19 10:00:00+00:00</td>\n",
       "      <td>2022-02-19 12:00:00+00:00</td>\n",
       "      <td>2022-02-19 10:30:00+00:00</td>\n",
       "      <td>10.0</td>\n",
       "      <td>ants</td>\n",
       "      <td>census2</td>\n",
       "      <td>klamath</td>\n",
       "      <td>peterson</td>\n",
       "    </tr>\n",
       "    <tr>\n",
       "      <th>7</th>\n",
       "      <td>_result</td>\n",
       "      <td>2</td>\n",
       "      <td>2022-02-19 10:00:00+00:00</td>\n",
       "      <td>2022-02-19 12:00:00+00:00</td>\n",
       "      <td>2022-02-19 11:00:00+00:00</td>\n",
       "      <td>9.0</td>\n",
       "      <td>ants</td>\n",
       "      <td>census2</td>\n",
       "      <td>klamath</td>\n",
       "      <td>peterson</td>\n",
       "    </tr>\n",
       "    <tr>\n",
       "      <th>8</th>\n",
       "      <td>_result</td>\n",
       "      <td>2</td>\n",
       "      <td>2022-02-19 10:00:00+00:00</td>\n",
       "      <td>2022-02-19 12:00:00+00:00</td>\n",
       "      <td>2022-02-19 11:30:00+00:00</td>\n",
       "      <td>9.0</td>\n",
       "      <td>ants</td>\n",
       "      <td>census2</td>\n",
       "      <td>klamath</td>\n",
       "      <td>peterson</td>\n",
       "    </tr>\n",
       "    <tr>\n",
       "      <th>9</th>\n",
       "      <td>_result</td>\n",
       "      <td>3</td>\n",
       "      <td>2022-02-19 10:00:00+00:00</td>\n",
       "      <td>2022-02-19 12:00:00+00:00</td>\n",
       "      <td>2022-02-19 10:30:00+00:00</td>\n",
       "      <td>15.0</td>\n",
       "      <td>bees</td>\n",
       "      <td>census2</td>\n",
       "      <td>klamath</td>\n",
       "      <td>peterson</td>\n",
       "    </tr>\n",
       "    <tr>\n",
       "      <th>10</th>\n",
       "      <td>_result</td>\n",
       "      <td>3</td>\n",
       "      <td>2022-02-19 10:00:00+00:00</td>\n",
       "      <td>2022-02-19 12:00:00+00:00</td>\n",
       "      <td>2022-02-19 11:00:00+00:00</td>\n",
       "      <td>14.0</td>\n",
       "      <td>bees</td>\n",
       "      <td>census2</td>\n",
       "      <td>klamath</td>\n",
       "      <td>peterson</td>\n",
       "    </tr>\n",
       "    <tr>\n",
       "      <th>11</th>\n",
       "      <td>_result</td>\n",
       "      <td>3</td>\n",
       "      <td>2022-02-19 10:00:00+00:00</td>\n",
       "      <td>2022-02-19 12:00:00+00:00</td>\n",
       "      <td>2022-02-19 11:30:00+00:00</td>\n",
       "      <td>14.0</td>\n",
       "      <td>bees</td>\n",
       "      <td>census2</td>\n",
       "      <td>klamath</td>\n",
       "      <td>peterson</td>\n",
       "    </tr>\n",
       "  </tbody>\n",
       "</table>\n",
       "</div>"
      ],
      "text/plain": [
       "     result  table                    _start                     _stop  \\\n",
       "0   _result      0 2022-02-19 10:00:00+00:00 2022-02-19 12:00:00+00:00   \n",
       "1   _result      0 2022-02-19 10:00:00+00:00 2022-02-19 12:00:00+00:00   \n",
       "2   _result      0 2022-02-19 10:00:00+00:00 2022-02-19 12:00:00+00:00   \n",
       "3   _result      1 2022-02-19 10:00:00+00:00 2022-02-19 12:00:00+00:00   \n",
       "4   _result      1 2022-02-19 10:00:00+00:00 2022-02-19 12:00:00+00:00   \n",
       "5   _result      1 2022-02-19 10:00:00+00:00 2022-02-19 12:00:00+00:00   \n",
       "6   _result      2 2022-02-19 10:00:00+00:00 2022-02-19 12:00:00+00:00   \n",
       "7   _result      2 2022-02-19 10:00:00+00:00 2022-02-19 12:00:00+00:00   \n",
       "8   _result      2 2022-02-19 10:00:00+00:00 2022-02-19 12:00:00+00:00   \n",
       "9   _result      3 2022-02-19 10:00:00+00:00 2022-02-19 12:00:00+00:00   \n",
       "10  _result      3 2022-02-19 10:00:00+00:00 2022-02-19 12:00:00+00:00   \n",
       "11  _result      3 2022-02-19 10:00:00+00:00 2022-02-19 12:00:00+00:00   \n",
       "\n",
       "                       _time  _value _field _measurement location scientist  \n",
       "0  2022-02-19 10:30:00+00:00    20.0   ants      census2  klamath  anderson  \n",
       "1  2022-02-19 11:00:00+00:00    23.0   ants      census2  klamath  anderson  \n",
       "2  2022-02-19 11:30:00+00:00    25.0   ants      census2  klamath  anderson  \n",
       "3  2022-02-19 10:30:00+00:00    10.0   bees      census2  klamath  anderson  \n",
       "4  2022-02-19 11:00:00+00:00    12.0   bees      census2  klamath  anderson  \n",
       "5  2022-02-19 11:30:00+00:00    12.0   bees      census2  klamath  anderson  \n",
       "6  2022-02-19 10:30:00+00:00    10.0   ants      census2  klamath  peterson  \n",
       "7  2022-02-19 11:00:00+00:00     9.0   ants      census2  klamath  peterson  \n",
       "8  2022-02-19 11:30:00+00:00     9.0   ants      census2  klamath  peterson  \n",
       "9  2022-02-19 10:30:00+00:00    15.0   bees      census2  klamath  peterson  \n",
       "10 2022-02-19 11:00:00+00:00    14.0   bees      census2  klamath  peterson  \n",
       "11 2022-02-19 11:30:00+00:00    14.0   bees      census2  klamath  peterson  "
      ]
     },
     "execution_count": 13,
     "metadata": {},
     "output_type": "execute_result"
    }
   ],
   "source": [
    "df = query_client.query_data_frame(query, org=org)\n",
    "df"
   ]
  },
  {
   "cell_type": "markdown",
   "metadata": {},
   "source": [
    "Usaremos esta interfaz a partir de ahora para ejemplificar algunas operaciones más con Flux. A continuación, veremos algunos ejemplos de consultas habituales que podemos hacer con Flux. Sin embargo, no pretendemos ser exhaustivos, si no que tengáis unas nociones básicas de como hacer consultas. Para ver todas las posibilidades del lenguaje os remitimos a la [documentación](https://docs.influxdata.com/influxdb/v2.0/query-data/flux/). Veamos en primer lugar como aplicar un filtro sencillo. "
   ]
  },
  {
   "cell_type": "code",
   "execution_count": 32,
   "metadata": {},
   "outputs": [
    {
     "data": {
      "text/html": [
       "<div>\n",
       "<style scoped>\n",
       "    .dataframe tbody tr th:only-of-type {\n",
       "        vertical-align: middle;\n",
       "    }\n",
       "\n",
       "    .dataframe tbody tr th {\n",
       "        vertical-align: top;\n",
       "    }\n",
       "\n",
       "    .dataframe thead th {\n",
       "        text-align: right;\n",
       "    }\n",
       "</style>\n",
       "<table border=\"1\" class=\"dataframe\">\n",
       "  <thead>\n",
       "    <tr style=\"text-align: right;\">\n",
       "      <th></th>\n",
       "      <th>result</th>\n",
       "      <th>table</th>\n",
       "      <th>_start</th>\n",
       "      <th>_stop</th>\n",
       "      <th>_time</th>\n",
       "      <th>_value</th>\n",
       "      <th>_field</th>\n",
       "      <th>_measurement</th>\n",
       "      <th>location</th>\n",
       "      <th>scientist</th>\n",
       "    </tr>\n",
       "  </thead>\n",
       "  <tbody>\n",
       "    <tr>\n",
       "      <th>0</th>\n",
       "      <td>_result</td>\n",
       "      <td>0</td>\n",
       "      <td>2022-02-19 10:00:00+00:00</td>\n",
       "      <td>2022-02-19 12:00:00+00:00</td>\n",
       "      <td>2022-02-19 10:30:00+00:00</td>\n",
       "      <td>20.0</td>\n",
       "      <td>ants</td>\n",
       "      <td>census3</td>\n",
       "      <td>klamath</td>\n",
       "      <td>anderson</td>\n",
       "    </tr>\n",
       "    <tr>\n",
       "      <th>1</th>\n",
       "      <td>_result</td>\n",
       "      <td>0</td>\n",
       "      <td>2022-02-19 10:00:00+00:00</td>\n",
       "      <td>2022-02-19 12:00:00+00:00</td>\n",
       "      <td>2022-02-19 11:00:00+00:00</td>\n",
       "      <td>23.0</td>\n",
       "      <td>ants</td>\n",
       "      <td>census3</td>\n",
       "      <td>klamath</td>\n",
       "      <td>anderson</td>\n",
       "    </tr>\n",
       "    <tr>\n",
       "      <th>2</th>\n",
       "      <td>_result</td>\n",
       "      <td>0</td>\n",
       "      <td>2022-02-19 10:00:00+00:00</td>\n",
       "      <td>2022-02-19 12:00:00+00:00</td>\n",
       "      <td>2022-02-19 11:30:00+00:00</td>\n",
       "      <td>25.0</td>\n",
       "      <td>ants</td>\n",
       "      <td>census3</td>\n",
       "      <td>klamath</td>\n",
       "      <td>anderson</td>\n",
       "    </tr>\n",
       "    <tr>\n",
       "      <th>3</th>\n",
       "      <td>_result</td>\n",
       "      <td>1</td>\n",
       "      <td>2022-02-19 10:00:00+00:00</td>\n",
       "      <td>2022-02-19 12:00:00+00:00</td>\n",
       "      <td>2022-02-19 10:30:00+00:00</td>\n",
       "      <td>10.0</td>\n",
       "      <td>bees</td>\n",
       "      <td>census3</td>\n",
       "      <td>klamath</td>\n",
       "      <td>anderson</td>\n",
       "    </tr>\n",
       "    <tr>\n",
       "      <th>4</th>\n",
       "      <td>_result</td>\n",
       "      <td>1</td>\n",
       "      <td>2022-02-19 10:00:00+00:00</td>\n",
       "      <td>2022-02-19 12:00:00+00:00</td>\n",
       "      <td>2022-02-19 11:00:00+00:00</td>\n",
       "      <td>12.0</td>\n",
       "      <td>bees</td>\n",
       "      <td>census3</td>\n",
       "      <td>klamath</td>\n",
       "      <td>anderson</td>\n",
       "    </tr>\n",
       "    <tr>\n",
       "      <th>5</th>\n",
       "      <td>_result</td>\n",
       "      <td>1</td>\n",
       "      <td>2022-02-19 10:00:00+00:00</td>\n",
       "      <td>2022-02-19 12:00:00+00:00</td>\n",
       "      <td>2022-02-19 11:30:00+00:00</td>\n",
       "      <td>12.0</td>\n",
       "      <td>bees</td>\n",
       "      <td>census3</td>\n",
       "      <td>klamath</td>\n",
       "      <td>anderson</td>\n",
       "    </tr>\n",
       "  </tbody>\n",
       "</table>\n",
       "</div>"
      ],
      "text/plain": [
       "    result table                    _start                     _stop  \\\n",
       "0  _result     0 2022-02-19 10:00:00+00:00 2022-02-19 12:00:00+00:00   \n",
       "1  _result     0 2022-02-19 10:00:00+00:00 2022-02-19 12:00:00+00:00   \n",
       "2  _result     0 2022-02-19 10:00:00+00:00 2022-02-19 12:00:00+00:00   \n",
       "3  _result     1 2022-02-19 10:00:00+00:00 2022-02-19 12:00:00+00:00   \n",
       "4  _result     1 2022-02-19 10:00:00+00:00 2022-02-19 12:00:00+00:00   \n",
       "5  _result     1 2022-02-19 10:00:00+00:00 2022-02-19 12:00:00+00:00   \n",
       "\n",
       "                      _time  _value _field _measurement location scientist  \n",
       "0 2022-02-19 10:30:00+00:00    20.0   ants      census3  klamath  anderson  \n",
       "1 2022-02-19 11:00:00+00:00    23.0   ants      census3  klamath  anderson  \n",
       "2 2022-02-19 11:30:00+00:00    25.0   ants      census3  klamath  anderson  \n",
       "3 2022-02-19 10:30:00+00:00    10.0   bees      census3  klamath  anderson  \n",
       "4 2022-02-19 11:00:00+00:00    12.0   bees      census3  klamath  anderson  \n",
       "5 2022-02-19 11:30:00+00:00    12.0   bees      census3  klamath  anderson  "
      ]
     },
     "execution_count": 32,
     "metadata": {},
     "output_type": "execute_result"
    }
   ],
   "source": [
    "query = (\n",
    "f'from(bucket: \"{bucket}\")'\n",
    "f'  |> range(start: 2022-02-19T10:00:00Z, stop: 2022-02-19T12:00:00Z)'\n",
    "f'  |> filter(fn: (r) => r.scientist == \"anderson\")'\n",
    ")\n",
    "\n",
    "query_client.query_data_frame(query, org=org)"
   ]
  },
  {
   "cell_type": "markdown",
   "metadata": {},
   "source": [
    "En este caso, la operación filter nos permite añadir una función de filtrado. Podemos añadir más cláusulas, por ejemplo usando `and`"
   ]
  },
  {
   "cell_type": "code",
   "execution_count": 33,
   "metadata": {},
   "outputs": [
    {
     "data": {
      "text/html": [
       "<div>\n",
       "<style scoped>\n",
       "    .dataframe tbody tr th:only-of-type {\n",
       "        vertical-align: middle;\n",
       "    }\n",
       "\n",
       "    .dataframe tbody tr th {\n",
       "        vertical-align: top;\n",
       "    }\n",
       "\n",
       "    .dataframe thead th {\n",
       "        text-align: right;\n",
       "    }\n",
       "</style>\n",
       "<table border=\"1\" class=\"dataframe\">\n",
       "  <thead>\n",
       "    <tr style=\"text-align: right;\">\n",
       "      <th></th>\n",
       "      <th>result</th>\n",
       "      <th>table</th>\n",
       "      <th>_start</th>\n",
       "      <th>_stop</th>\n",
       "      <th>_time</th>\n",
       "      <th>_value</th>\n",
       "      <th>_field</th>\n",
       "      <th>_measurement</th>\n",
       "      <th>location</th>\n",
       "      <th>scientist</th>\n",
       "    </tr>\n",
       "  </thead>\n",
       "  <tbody>\n",
       "    <tr>\n",
       "      <th>0</th>\n",
       "      <td>_result</td>\n",
       "      <td>0</td>\n",
       "      <td>2022-02-19 10:00:00+00:00</td>\n",
       "      <td>2022-02-19 12:00:00+00:00</td>\n",
       "      <td>2022-02-19 10:30:00+00:00</td>\n",
       "      <td>20.0</td>\n",
       "      <td>ants</td>\n",
       "      <td>census3</td>\n",
       "      <td>klamath</td>\n",
       "      <td>anderson</td>\n",
       "    </tr>\n",
       "    <tr>\n",
       "      <th>1</th>\n",
       "      <td>_result</td>\n",
       "      <td>0</td>\n",
       "      <td>2022-02-19 10:00:00+00:00</td>\n",
       "      <td>2022-02-19 12:00:00+00:00</td>\n",
       "      <td>2022-02-19 11:00:00+00:00</td>\n",
       "      <td>23.0</td>\n",
       "      <td>ants</td>\n",
       "      <td>census3</td>\n",
       "      <td>klamath</td>\n",
       "      <td>anderson</td>\n",
       "    </tr>\n",
       "    <tr>\n",
       "      <th>2</th>\n",
       "      <td>_result</td>\n",
       "      <td>0</td>\n",
       "      <td>2022-02-19 10:00:00+00:00</td>\n",
       "      <td>2022-02-19 12:00:00+00:00</td>\n",
       "      <td>2022-02-19 11:30:00+00:00</td>\n",
       "      <td>25.0</td>\n",
       "      <td>ants</td>\n",
       "      <td>census3</td>\n",
       "      <td>klamath</td>\n",
       "      <td>anderson</td>\n",
       "    </tr>\n",
       "  </tbody>\n",
       "</table>\n",
       "</div>"
      ],
      "text/plain": [
       "    result table                    _start                     _stop  \\\n",
       "0  _result     0 2022-02-19 10:00:00+00:00 2022-02-19 12:00:00+00:00   \n",
       "1  _result     0 2022-02-19 10:00:00+00:00 2022-02-19 12:00:00+00:00   \n",
       "2  _result     0 2022-02-19 10:00:00+00:00 2022-02-19 12:00:00+00:00   \n",
       "\n",
       "                      _time  _value _field _measurement location scientist  \n",
       "0 2022-02-19 10:30:00+00:00    20.0   ants      census3  klamath  anderson  \n",
       "1 2022-02-19 11:00:00+00:00    23.0   ants      census3  klamath  anderson  \n",
       "2 2022-02-19 11:30:00+00:00    25.0   ants      census3  klamath  anderson  "
      ]
     },
     "execution_count": 33,
     "metadata": {},
     "output_type": "execute_result"
    }
   ],
   "source": [
    "query = (\n",
    "f'from(bucket: \"{bucket}\")'\n",
    "f'  |> range(start: 2022-02-19T10:00:00Z, stop: 2022-02-19T12:00:00Z)'\n",
    "f'  |> filter(fn: (r) => r.scientist == \"anderson\" and r._field == \"ants\")'\n",
    ")\n",
    "\n",
    "query_client.query_data_frame(query, org=org)"
   ]
  },
  {
   "cell_type": "markdown",
   "metadata": {},
   "source": [
    "Podemos realizar crear operaciones con los valores de un campo. "
   ]
  },
  {
   "cell_type": "code",
   "execution_count": 35,
   "metadata": {},
   "outputs": [
    {
     "data": {
      "text/html": [
       "<div>\n",
       "<style scoped>\n",
       "    .dataframe tbody tr th:only-of-type {\n",
       "        vertical-align: middle;\n",
       "    }\n",
       "\n",
       "    .dataframe tbody tr th {\n",
       "        vertical-align: top;\n",
       "    }\n",
       "\n",
       "    .dataframe thead th {\n",
       "        text-align: right;\n",
       "    }\n",
       "</style>\n",
       "<table border=\"1\" class=\"dataframe\">\n",
       "  <thead>\n",
       "    <tr style=\"text-align: right;\">\n",
       "      <th></th>\n",
       "      <th>result</th>\n",
       "      <th>table</th>\n",
       "      <th>_field</th>\n",
       "      <th>_measurement</th>\n",
       "      <th>_start</th>\n",
       "      <th>_stop</th>\n",
       "      <th>_time</th>\n",
       "      <th>_value</th>\n",
       "      <th>divide2</th>\n",
       "      <th>location</th>\n",
       "      <th>scientist</th>\n",
       "    </tr>\n",
       "  </thead>\n",
       "  <tbody>\n",
       "    <tr>\n",
       "      <th>0</th>\n",
       "      <td>_result</td>\n",
       "      <td>0</td>\n",
       "      <td>ants</td>\n",
       "      <td>census3</td>\n",
       "      <td>2022-02-19 10:00:00+00:00</td>\n",
       "      <td>2022-02-19 12:00:00+00:00</td>\n",
       "      <td>2022-02-19 10:30:00+00:00</td>\n",
       "      <td>20.0</td>\n",
       "      <td>10.0</td>\n",
       "      <td>klamath</td>\n",
       "      <td>anderson</td>\n",
       "    </tr>\n",
       "    <tr>\n",
       "      <th>1</th>\n",
       "      <td>_result</td>\n",
       "      <td>0</td>\n",
       "      <td>ants</td>\n",
       "      <td>census3</td>\n",
       "      <td>2022-02-19 10:00:00+00:00</td>\n",
       "      <td>2022-02-19 12:00:00+00:00</td>\n",
       "      <td>2022-02-19 11:00:00+00:00</td>\n",
       "      <td>23.0</td>\n",
       "      <td>11.5</td>\n",
       "      <td>klamath</td>\n",
       "      <td>anderson</td>\n",
       "    </tr>\n",
       "    <tr>\n",
       "      <th>2</th>\n",
       "      <td>_result</td>\n",
       "      <td>0</td>\n",
       "      <td>ants</td>\n",
       "      <td>census3</td>\n",
       "      <td>2022-02-19 10:00:00+00:00</td>\n",
       "      <td>2022-02-19 12:00:00+00:00</td>\n",
       "      <td>2022-02-19 11:30:00+00:00</td>\n",
       "      <td>25.0</td>\n",
       "      <td>12.5</td>\n",
       "      <td>klamath</td>\n",
       "      <td>anderson</td>\n",
       "    </tr>\n",
       "  </tbody>\n",
       "</table>\n",
       "</div>"
      ],
      "text/plain": [
       "    result table _field _measurement                    _start  \\\n",
       "0  _result     0   ants      census3 2022-02-19 10:00:00+00:00   \n",
       "1  _result     0   ants      census3 2022-02-19 10:00:00+00:00   \n",
       "2  _result     0   ants      census3 2022-02-19 10:00:00+00:00   \n",
       "\n",
       "                      _stop                     _time  _value  divide2  \\\n",
       "0 2022-02-19 12:00:00+00:00 2022-02-19 10:30:00+00:00    20.0     10.0   \n",
       "1 2022-02-19 12:00:00+00:00 2022-02-19 11:00:00+00:00    23.0     11.5   \n",
       "2 2022-02-19 12:00:00+00:00 2022-02-19 11:30:00+00:00    25.0     12.5   \n",
       "\n",
       "  location scientist  \n",
       "0  klamath  anderson  \n",
       "1  klamath  anderson  \n",
       "2  klamath  anderson  "
      ]
     },
     "execution_count": 35,
     "metadata": {},
     "output_type": "execute_result"
    }
   ],
   "source": [
    "query = (\n",
    "f'from(bucket: \"{bucket}\")'\n",
    "'  |> range(start: 2022-02-19T10:00:00Z, stop: 2022-02-19T12:00:00Z)'\n",
    "'  |> filter(fn: (r) => r.scientist == \"anderson\" and r._field == \"ants\")'\n",
    "'  |> map(fn: (r) => ({r with divide2: (r._value/2.0)}))'\n",
    ")\n",
    "\n",
    "query_client.query_data_frame(query, org=org)"
   ]
  },
  {
   "cell_type": "markdown",
   "metadata": {},
   "source": [
    "También podemos realizar agregaciones en intervalos de tiempo"
   ]
  },
  {
   "cell_type": "code",
   "execution_count": 37,
   "metadata": {},
   "outputs": [
    {
     "data": {
      "text/html": [
       "<div>\n",
       "<style scoped>\n",
       "    .dataframe tbody tr th:only-of-type {\n",
       "        vertical-align: middle;\n",
       "    }\n",
       "\n",
       "    .dataframe tbody tr th {\n",
       "        vertical-align: top;\n",
       "    }\n",
       "\n",
       "    .dataframe thead th {\n",
       "        text-align: right;\n",
       "    }\n",
       "</style>\n",
       "<table border=\"1\" class=\"dataframe\">\n",
       "  <thead>\n",
       "    <tr style=\"text-align: right;\">\n",
       "      <th></th>\n",
       "      <th>result</th>\n",
       "      <th>table</th>\n",
       "      <th>_start</th>\n",
       "      <th>_stop</th>\n",
       "      <th>_time</th>\n",
       "      <th>_value</th>\n",
       "      <th>_field</th>\n",
       "      <th>_measurement</th>\n",
       "      <th>location</th>\n",
       "      <th>scientist</th>\n",
       "    </tr>\n",
       "  </thead>\n",
       "  <tbody>\n",
       "    <tr>\n",
       "      <th>0</th>\n",
       "      <td>_result</td>\n",
       "      <td>0</td>\n",
       "      <td>2022-02-01 10:00:00+00:00</td>\n",
       "      <td>2022-02-19 12:00:00+00:00</td>\n",
       "      <td>2022-02-03 00:00:00+00:00</td>\n",
       "      <td>NaN</td>\n",
       "      <td>ants</td>\n",
       "      <td>census3</td>\n",
       "      <td>klamath</td>\n",
       "      <td>anderson</td>\n",
       "    </tr>\n",
       "    <tr>\n",
       "      <th>1</th>\n",
       "      <td>_result</td>\n",
       "      <td>0</td>\n",
       "      <td>2022-02-01 10:00:00+00:00</td>\n",
       "      <td>2022-02-19 12:00:00+00:00</td>\n",
       "      <td>2022-02-10 00:00:00+00:00</td>\n",
       "      <td>NaN</td>\n",
       "      <td>ants</td>\n",
       "      <td>census3</td>\n",
       "      <td>klamath</td>\n",
       "      <td>anderson</td>\n",
       "    </tr>\n",
       "    <tr>\n",
       "      <th>2</th>\n",
       "      <td>_result</td>\n",
       "      <td>0</td>\n",
       "      <td>2022-02-01 10:00:00+00:00</td>\n",
       "      <td>2022-02-19 12:00:00+00:00</td>\n",
       "      <td>2022-02-17 00:00:00+00:00</td>\n",
       "      <td>NaN</td>\n",
       "      <td>ants</td>\n",
       "      <td>census3</td>\n",
       "      <td>klamath</td>\n",
       "      <td>anderson</td>\n",
       "    </tr>\n",
       "    <tr>\n",
       "      <th>3</th>\n",
       "      <td>_result</td>\n",
       "      <td>0</td>\n",
       "      <td>2022-02-01 10:00:00+00:00</td>\n",
       "      <td>2022-02-19 12:00:00+00:00</td>\n",
       "      <td>2022-02-19 12:00:00+00:00</td>\n",
       "      <td>22.666667</td>\n",
       "      <td>ants</td>\n",
       "      <td>census3</td>\n",
       "      <td>klamath</td>\n",
       "      <td>anderson</td>\n",
       "    </tr>\n",
       "  </tbody>\n",
       "</table>\n",
       "</div>"
      ],
      "text/plain": [
       "    result table                    _start                     _stop  \\\n",
       "0  _result     0 2022-02-01 10:00:00+00:00 2022-02-19 12:00:00+00:00   \n",
       "1  _result     0 2022-02-01 10:00:00+00:00 2022-02-19 12:00:00+00:00   \n",
       "2  _result     0 2022-02-01 10:00:00+00:00 2022-02-19 12:00:00+00:00   \n",
       "3  _result     0 2022-02-01 10:00:00+00:00 2022-02-19 12:00:00+00:00   \n",
       "\n",
       "                      _time     _value _field _measurement location scientist  \n",
       "0 2022-02-03 00:00:00+00:00        NaN   ants      census3  klamath  anderson  \n",
       "1 2022-02-10 00:00:00+00:00        NaN   ants      census3  klamath  anderson  \n",
       "2 2022-02-17 00:00:00+00:00        NaN   ants      census3  klamath  anderson  \n",
       "3 2022-02-19 12:00:00+00:00  22.666667   ants      census3  klamath  anderson  "
      ]
     },
     "execution_count": 37,
     "metadata": {},
     "output_type": "execute_result"
    }
   ],
   "source": [
    "query = (\n",
    "f'from(bucket: \"{bucket}\")'\n",
    "'  |> range(start: 2022-02-01T10:00:00Z, stop: 2022-02-19T12:00:00Z)'\n",
    "'  |> filter(fn: (r) => r.scientist == \"anderson\" and r._field == \"ants\")'\n",
    "'  |> aggregateWindow(every: 1w, fn: mean)'\n",
    ")\n",
    "\n",
    "query_client.query_data_frame(query, org=org)"
   ]
  },
  {
   "cell_type": "markdown",
   "metadata": {},
   "source": [
    "O incluso calcular una media móvil"
   ]
  },
  {
   "cell_type": "code",
   "execution_count": 39,
   "metadata": {},
   "outputs": [
    {
     "data": {
      "text/html": [
       "<div>\n",
       "<style scoped>\n",
       "    .dataframe tbody tr th:only-of-type {\n",
       "        vertical-align: middle;\n",
       "    }\n",
       "\n",
       "    .dataframe tbody tr th {\n",
       "        vertical-align: top;\n",
       "    }\n",
       "\n",
       "    .dataframe thead th {\n",
       "        text-align: right;\n",
       "    }\n",
       "</style>\n",
       "<table border=\"1\" class=\"dataframe\">\n",
       "  <thead>\n",
       "    <tr style=\"text-align: right;\">\n",
       "      <th></th>\n",
       "      <th>result</th>\n",
       "      <th>table</th>\n",
       "      <th>_start</th>\n",
       "      <th>_stop</th>\n",
       "      <th>_time</th>\n",
       "      <th>_value</th>\n",
       "      <th>_field</th>\n",
       "      <th>_measurement</th>\n",
       "      <th>location</th>\n",
       "      <th>scientist</th>\n",
       "    </tr>\n",
       "  </thead>\n",
       "  <tbody>\n",
       "    <tr>\n",
       "      <th>0</th>\n",
       "      <td>_result</td>\n",
       "      <td>0</td>\n",
       "      <td>2021-02-19 10:00:00+00:00</td>\n",
       "      <td>2022-02-19 12:00:00+00:00</td>\n",
       "      <td>2022-02-19 11:00:00+00:00</td>\n",
       "      <td>21.5</td>\n",
       "      <td>ants</td>\n",
       "      <td>census3</td>\n",
       "      <td>klamath</td>\n",
       "      <td>anderson</td>\n",
       "    </tr>\n",
       "    <tr>\n",
       "      <th>1</th>\n",
       "      <td>_result</td>\n",
       "      <td>0</td>\n",
       "      <td>2021-02-19 10:00:00+00:00</td>\n",
       "      <td>2022-02-19 12:00:00+00:00</td>\n",
       "      <td>2022-02-19 11:30:00+00:00</td>\n",
       "      <td>24.0</td>\n",
       "      <td>ants</td>\n",
       "      <td>census3</td>\n",
       "      <td>klamath</td>\n",
       "      <td>anderson</td>\n",
       "    </tr>\n",
       "  </tbody>\n",
       "</table>\n",
       "</div>"
      ],
      "text/plain": [
       "    result table                    _start                     _stop  \\\n",
       "0  _result     0 2021-02-19 10:00:00+00:00 2022-02-19 12:00:00+00:00   \n",
       "1  _result     0 2021-02-19 10:00:00+00:00 2022-02-19 12:00:00+00:00   \n",
       "\n",
       "                      _time  _value _field _measurement location scientist  \n",
       "0 2022-02-19 11:00:00+00:00    21.5   ants      census3  klamath  anderson  \n",
       "1 2022-02-19 11:30:00+00:00    24.0   ants      census3  klamath  anderson  "
      ]
     },
     "execution_count": 39,
     "metadata": {},
     "output_type": "execute_result"
    }
   ],
   "source": [
    "query = (\n",
    "f'from(bucket: \"{bucket}\")'\n",
    "'  |> range(start: 2021-02-19T10:00:00Z, stop: 2022-02-19T12:00:00Z)'\n",
    "'  |> filter(fn: (r) => r.scientist == \"anderson\" and r._field == \"ants\")'\n",
    "'  |> movingAverage(n: 2)'\n",
    ")\n",
    "\n",
    "query_client.query_data_frame(query, org=org)"
   ]
  },
  {
   "cell_type": "markdown",
   "metadata": {},
   "source": [
    "Ya deberíais estar capacitados tanto para escribir como para poder realizar consultas sencillas con InfluxDB. En el siguiente ejercicio practicaréis lo visto en los ejemplos anteriores trabajando con los datos meteorológicos. "
   ]
  },
  {
   "cell_type": "markdown",
   "metadata": {},
   "source": [
    "<div style=\"text-align: right\">\n",
    "<a href=\"#indice\"><font size=5><i class=\"fa fa-arrow-circle-up\" aria-hidden=\"true\" style=\"color:#00586D\"></i></font></a>\n",
    "</div>"
   ]
  },
  {
   "cell_type": "markdown",
   "metadata": {},
   "source": [
    "---\n",
    "\n",
    "### <font color=\"#00586D\"> <i class=\"fa fa-pencil-square-o\" aria-hidden=\"true\" style=\"color:#113D68\"></i> Ejercicio 1</font>\n",
    "\n",
    "Usando los datos de meteorología con los que venimos trabajando, almacena en InfluxDB (puedes utilizar el bucket que hayas usado durante la práctica) los datos de temperatura (measurement: temperatura), almacenando en campos la temperatura media, mínima y máxima para todo el año 2019, tanto para la estación de La Coruña como de Retiro (almacenad esta información en la tag _location_). "
   ]
  },
  {
   "cell_type": "code",
   "execution_count": 364,
   "metadata": {},
   "outputs": [],
   "source": [
    "# SOLUCIÓN\n",
    "ts_ret = pd.read_csv(\n",
    "    './data/meteo_retiro.csv', \n",
    "    sep=';', \n",
    "    parse_dates=['FECHA'], \n",
    "    index_col='FECHA', \n",
    "    encoding='latin9'\n",
    ").loc['2019', ['TMEDIA', 'TMIN', 'TMAX']]"
   ]
  },
  {
   "cell_type": "code",
   "execution_count": 365,
   "metadata": {},
   "outputs": [],
   "source": [
    "ts_ret['location'] = 'retiro'"
   ]
  },
  {
   "cell_type": "code",
   "execution_count": 366,
   "metadata": {},
   "outputs": [
    {
     "data": {
      "text/html": [
       "<div>\n",
       "<style scoped>\n",
       "    .dataframe tbody tr th:only-of-type {\n",
       "        vertical-align: middle;\n",
       "    }\n",
       "\n",
       "    .dataframe tbody tr th {\n",
       "        vertical-align: top;\n",
       "    }\n",
       "\n",
       "    .dataframe thead th {\n",
       "        text-align: right;\n",
       "    }\n",
       "</style>\n",
       "<table border=\"1\" class=\"dataframe\">\n",
       "  <thead>\n",
       "    <tr style=\"text-align: right;\">\n",
       "      <th></th>\n",
       "      <th>TMEDIA</th>\n",
       "      <th>TMIN</th>\n",
       "      <th>TMAX</th>\n",
       "      <th>location</th>\n",
       "    </tr>\n",
       "    <tr>\n",
       "      <th>FECHA</th>\n",
       "      <th></th>\n",
       "      <th></th>\n",
       "      <th></th>\n",
       "      <th></th>\n",
       "    </tr>\n",
       "  </thead>\n",
       "  <tbody>\n",
       "    <tr>\n",
       "      <th>2019-01-01</th>\n",
       "      <td>6.6</td>\n",
       "      <td>1.4</td>\n",
       "      <td>11.7</td>\n",
       "      <td>retiro</td>\n",
       "    </tr>\n",
       "    <tr>\n",
       "      <th>2019-01-02</th>\n",
       "      <td>6.0</td>\n",
       "      <td>0.4</td>\n",
       "      <td>11.7</td>\n",
       "      <td>retiro</td>\n",
       "    </tr>\n",
       "    <tr>\n",
       "      <th>2019-01-03</th>\n",
       "      <td>7.3</td>\n",
       "      <td>2.8</td>\n",
       "      <td>11.8</td>\n",
       "      <td>retiro</td>\n",
       "    </tr>\n",
       "    <tr>\n",
       "      <th>2019-01-04</th>\n",
       "      <td>5.9</td>\n",
       "      <td>0.4</td>\n",
       "      <td>11.4</td>\n",
       "      <td>retiro</td>\n",
       "    </tr>\n",
       "    <tr>\n",
       "      <th>2019-01-05</th>\n",
       "      <td>5.4</td>\n",
       "      <td>-0.1</td>\n",
       "      <td>10.8</td>\n",
       "      <td>retiro</td>\n",
       "    </tr>\n",
       "    <tr>\n",
       "      <th>...</th>\n",
       "      <td>...</td>\n",
       "      <td>...</td>\n",
       "      <td>...</td>\n",
       "      <td>...</td>\n",
       "    </tr>\n",
       "    <tr>\n",
       "      <th>2019-12-27</th>\n",
       "      <td>8.9</td>\n",
       "      <td>4.3</td>\n",
       "      <td>13.5</td>\n",
       "      <td>retiro</td>\n",
       "    </tr>\n",
       "    <tr>\n",
       "      <th>2019-12-28</th>\n",
       "      <td>8.2</td>\n",
       "      <td>2.5</td>\n",
       "      <td>13.9</td>\n",
       "      <td>retiro</td>\n",
       "    </tr>\n",
       "    <tr>\n",
       "      <th>2019-12-29</th>\n",
       "      <td>7.8</td>\n",
       "      <td>2.5</td>\n",
       "      <td>13.2</td>\n",
       "      <td>retiro</td>\n",
       "    </tr>\n",
       "    <tr>\n",
       "      <th>2019-12-30</th>\n",
       "      <td>7.0</td>\n",
       "      <td>2.5</td>\n",
       "      <td>11.5</td>\n",
       "      <td>retiro</td>\n",
       "    </tr>\n",
       "    <tr>\n",
       "      <th>2019-12-31</th>\n",
       "      <td>6.8</td>\n",
       "      <td>2.3</td>\n",
       "      <td>11.4</td>\n",
       "      <td>retiro</td>\n",
       "    </tr>\n",
       "  </tbody>\n",
       "</table>\n",
       "<p>365 rows × 4 columns</p>\n",
       "</div>"
      ],
      "text/plain": [
       "            TMEDIA  TMIN  TMAX location\n",
       "FECHA                                  \n",
       "2019-01-01     6.6   1.4  11.7   retiro\n",
       "2019-01-02     6.0   0.4  11.7   retiro\n",
       "2019-01-03     7.3   2.8  11.8   retiro\n",
       "2019-01-04     5.9   0.4  11.4   retiro\n",
       "2019-01-05     5.4  -0.1  10.8   retiro\n",
       "...            ...   ...   ...      ...\n",
       "2019-12-27     8.9   4.3  13.5   retiro\n",
       "2019-12-28     8.2   2.5  13.9   retiro\n",
       "2019-12-29     7.8   2.5  13.2   retiro\n",
       "2019-12-30     7.0   2.5  11.5   retiro\n",
       "2019-12-31     6.8   2.3  11.4   retiro\n",
       "\n",
       "[365 rows x 4 columns]"
      ]
     },
     "execution_count": 366,
     "metadata": {},
     "output_type": "execute_result"
    }
   ],
   "source": [
    "ts_ret"
   ]
  },
  {
   "cell_type": "code",
   "execution_count": 367,
   "metadata": {},
   "outputs": [],
   "source": [
    "ts_cor = pd.read_csv(\n",
    "    './data/meteo_coruña.csv', \n",
    "    sep=';', \n",
    "    parse_dates=['FECHA'], \n",
    "    index_col='FECHA', \n",
    "    encoding='latin9'\n",
    ").loc['2019', ['TMEDIA', 'TMIN', 'TMAX']]"
   ]
  },
  {
   "cell_type": "code",
   "execution_count": 368,
   "metadata": {},
   "outputs": [],
   "source": [
    "ts_cor['location'] = 'coruña'"
   ]
  },
  {
   "cell_type": "code",
   "execution_count": 369,
   "metadata": {},
   "outputs": [
    {
     "data": {
      "text/html": [
       "<div>\n",
       "<style scoped>\n",
       "    .dataframe tbody tr th:only-of-type {\n",
       "        vertical-align: middle;\n",
       "    }\n",
       "\n",
       "    .dataframe tbody tr th {\n",
       "        vertical-align: top;\n",
       "    }\n",
       "\n",
       "    .dataframe thead th {\n",
       "        text-align: right;\n",
       "    }\n",
       "</style>\n",
       "<table border=\"1\" class=\"dataframe\">\n",
       "  <thead>\n",
       "    <tr style=\"text-align: right;\">\n",
       "      <th></th>\n",
       "      <th>TMEDIA</th>\n",
       "      <th>TMIN</th>\n",
       "      <th>TMAX</th>\n",
       "      <th>location</th>\n",
       "    </tr>\n",
       "    <tr>\n",
       "      <th>FECHA</th>\n",
       "      <th></th>\n",
       "      <th></th>\n",
       "      <th></th>\n",
       "      <th></th>\n",
       "    </tr>\n",
       "  </thead>\n",
       "  <tbody>\n",
       "    <tr>\n",
       "      <th>2019-01-01</th>\n",
       "      <td>9.5</td>\n",
       "      <td>5.1</td>\n",
       "      <td>13.9</td>\n",
       "      <td>coruña</td>\n",
       "    </tr>\n",
       "    <tr>\n",
       "      <th>2019-01-02</th>\n",
       "      <td>9.2</td>\n",
       "      <td>6.0</td>\n",
       "      <td>12.3</td>\n",
       "      <td>coruña</td>\n",
       "    </tr>\n",
       "    <tr>\n",
       "      <th>2019-01-03</th>\n",
       "      <td>9.1</td>\n",
       "      <td>4.6</td>\n",
       "      <td>13.6</td>\n",
       "      <td>coruña</td>\n",
       "    </tr>\n",
       "    <tr>\n",
       "      <th>2019-01-04</th>\n",
       "      <td>8.8</td>\n",
       "      <td>3.3</td>\n",
       "      <td>14.4</td>\n",
       "      <td>coruña</td>\n",
       "    </tr>\n",
       "    <tr>\n",
       "      <th>2019-01-05</th>\n",
       "      <td>8.2</td>\n",
       "      <td>3.6</td>\n",
       "      <td>12.8</td>\n",
       "      <td>coruña</td>\n",
       "    </tr>\n",
       "    <tr>\n",
       "      <th>...</th>\n",
       "      <td>...</td>\n",
       "      <td>...</td>\n",
       "      <td>...</td>\n",
       "      <td>...</td>\n",
       "    </tr>\n",
       "    <tr>\n",
       "      <th>2019-12-27</th>\n",
       "      <td>10.0</td>\n",
       "      <td>5.4</td>\n",
       "      <td>14.5</td>\n",
       "      <td>coruña</td>\n",
       "    </tr>\n",
       "    <tr>\n",
       "      <th>2019-12-28</th>\n",
       "      <td>12.1</td>\n",
       "      <td>6.8</td>\n",
       "      <td>17.4</td>\n",
       "      <td>coruña</td>\n",
       "    </tr>\n",
       "    <tr>\n",
       "      <th>2019-12-29</th>\n",
       "      <td>13.9</td>\n",
       "      <td>9.6</td>\n",
       "      <td>18.2</td>\n",
       "      <td>coruña</td>\n",
       "    </tr>\n",
       "    <tr>\n",
       "      <th>2019-12-30</th>\n",
       "      <td>12.4</td>\n",
       "      <td>8.3</td>\n",
       "      <td>16.4</td>\n",
       "      <td>coruña</td>\n",
       "    </tr>\n",
       "    <tr>\n",
       "      <th>2019-12-31</th>\n",
       "      <td>11.6</td>\n",
       "      <td>10.2</td>\n",
       "      <td>12.9</td>\n",
       "      <td>coruña</td>\n",
       "    </tr>\n",
       "  </tbody>\n",
       "</table>\n",
       "<p>365 rows × 4 columns</p>\n",
       "</div>"
      ],
      "text/plain": [
       "            TMEDIA  TMIN  TMAX location\n",
       "FECHA                                  \n",
       "2019-01-01     9.5   5.1  13.9   coruña\n",
       "2019-01-02     9.2   6.0  12.3   coruña\n",
       "2019-01-03     9.1   4.6  13.6   coruña\n",
       "2019-01-04     8.8   3.3  14.4   coruña\n",
       "2019-01-05     8.2   3.6  12.8   coruña\n",
       "...            ...   ...   ...      ...\n",
       "2019-12-27    10.0   5.4  14.5   coruña\n",
       "2019-12-28    12.1   6.8  17.4   coruña\n",
       "2019-12-29    13.9   9.6  18.2   coruña\n",
       "2019-12-30    12.4   8.3  16.4   coruña\n",
       "2019-12-31    11.6  10.2  12.9   coruña\n",
       "\n",
       "[365 rows x 4 columns]"
      ]
     },
     "execution_count": 369,
     "metadata": {},
     "output_type": "execute_result"
    }
   ],
   "source": [
    "ts_cor"
   ]
  },
  {
   "cell_type": "code",
   "execution_count": 370,
   "metadata": {},
   "outputs": [],
   "source": [
    "full_df = pd.concat([ts_ret, ts_cor])"
   ]
  },
  {
   "cell_type": "code",
   "execution_count": 371,
   "metadata": {},
   "outputs": [],
   "source": [
    "write_api.write(bucket, org, record=full_df, data_frame_measurement_name='temperature', data_frame_tag_columns=['location'])"
   ]
  },
  {
   "cell_type": "markdown",
   "metadata": {},
   "source": [
    "<div style=\"text-align: right\"><font size=4> <i class=\"fa fa-check-square-o\" aria-hidden=\"true\" style=\"color:#00586D\"></i></font></div>\n",
    "\n",
    "--- "
   ]
  },
  {
   "cell_type": "markdown",
   "metadata": {},
   "source": [
    "\n",
    "\n",
    "### <font color=\"#00586D\"> <i class=\"fa fa-pencil-square-o\" aria-hidden=\"true\" style=\"color:#113D68\"></i> Ejercicio 2</font>\n",
    "\n",
    "Usando la base de datos anterior, consulta los datos de temperatura media diaria para los 6 primeros meses del año de la estación de La Coruña agregados por mes. Obten un DataFrame con el resultado\n",
    "\n",
    "Pista: Recordad filtrar por la nueva medida. Deberéis consultar la documentación para saber que duración tenéis que incluír en el campo `every` de la función de agregación. "
   ]
  },
  {
   "cell_type": "code",
   "execution_count": 375,
   "metadata": {},
   "outputs": [
    {
     "data": {
      "text/html": [
       "<div>\n",
       "<style scoped>\n",
       "    .dataframe tbody tr th:only-of-type {\n",
       "        vertical-align: middle;\n",
       "    }\n",
       "\n",
       "    .dataframe tbody tr th {\n",
       "        vertical-align: top;\n",
       "    }\n",
       "\n",
       "    .dataframe thead th {\n",
       "        text-align: right;\n",
       "    }\n",
       "</style>\n",
       "<table border=\"1\" class=\"dataframe\">\n",
       "  <thead>\n",
       "    <tr style=\"text-align: right;\">\n",
       "      <th></th>\n",
       "      <th>result</th>\n",
       "      <th>table</th>\n",
       "      <th>_start</th>\n",
       "      <th>_stop</th>\n",
       "      <th>_time</th>\n",
       "      <th>_value</th>\n",
       "      <th>_field</th>\n",
       "      <th>_measurement</th>\n",
       "      <th>location</th>\n",
       "    </tr>\n",
       "  </thead>\n",
       "  <tbody>\n",
       "    <tr>\n",
       "      <th>0</th>\n",
       "      <td>_result</td>\n",
       "      <td>0</td>\n",
       "      <td>2019-01-01 00:00:00+00:00</td>\n",
       "      <td>2019-07-01 00:00:00+00:00</td>\n",
       "      <td>2019-02-01 00:00:00+00:00</td>\n",
       "      <td>10.196774</td>\n",
       "      <td>TMEDIA</td>\n",
       "      <td>temperature</td>\n",
       "      <td>coruña</td>\n",
       "    </tr>\n",
       "    <tr>\n",
       "      <th>1</th>\n",
       "      <td>_result</td>\n",
       "      <td>0</td>\n",
       "      <td>2019-01-01 00:00:00+00:00</td>\n",
       "      <td>2019-07-01 00:00:00+00:00</td>\n",
       "      <td>2019-03-01 00:00:00+00:00</td>\n",
       "      <td>12.800000</td>\n",
       "      <td>TMEDIA</td>\n",
       "      <td>temperature</td>\n",
       "      <td>coruña</td>\n",
       "    </tr>\n",
       "    <tr>\n",
       "      <th>2</th>\n",
       "      <td>_result</td>\n",
       "      <td>0</td>\n",
       "      <td>2019-01-01 00:00:00+00:00</td>\n",
       "      <td>2019-07-01 00:00:00+00:00</td>\n",
       "      <td>2019-04-01 00:00:00+00:00</td>\n",
       "      <td>12.790323</td>\n",
       "      <td>TMEDIA</td>\n",
       "      <td>temperature</td>\n",
       "      <td>coruña</td>\n",
       "    </tr>\n",
       "    <tr>\n",
       "      <th>3</th>\n",
       "      <td>_result</td>\n",
       "      <td>0</td>\n",
       "      <td>2019-01-01 00:00:00+00:00</td>\n",
       "      <td>2019-07-01 00:00:00+00:00</td>\n",
       "      <td>2019-05-01 00:00:00+00:00</td>\n",
       "      <td>12.990000</td>\n",
       "      <td>TMEDIA</td>\n",
       "      <td>temperature</td>\n",
       "      <td>coruña</td>\n",
       "    </tr>\n",
       "    <tr>\n",
       "      <th>4</th>\n",
       "      <td>_result</td>\n",
       "      <td>0</td>\n",
       "      <td>2019-01-01 00:00:00+00:00</td>\n",
       "      <td>2019-07-01 00:00:00+00:00</td>\n",
       "      <td>2019-06-01 00:00:00+00:00</td>\n",
       "      <td>15.493548</td>\n",
       "      <td>TMEDIA</td>\n",
       "      <td>temperature</td>\n",
       "      <td>coruña</td>\n",
       "    </tr>\n",
       "    <tr>\n",
       "      <th>5</th>\n",
       "      <td>_result</td>\n",
       "      <td>0</td>\n",
       "      <td>2019-01-01 00:00:00+00:00</td>\n",
       "      <td>2019-07-01 00:00:00+00:00</td>\n",
       "      <td>2019-07-01 00:00:00+00:00</td>\n",
       "      <td>16.553333</td>\n",
       "      <td>TMEDIA</td>\n",
       "      <td>temperature</td>\n",
       "      <td>coruña</td>\n",
       "    </tr>\n",
       "  </tbody>\n",
       "</table>\n",
       "</div>"
      ],
      "text/plain": [
       "    result table                    _start                     _stop  \\\n",
       "0  _result     0 2019-01-01 00:00:00+00:00 2019-07-01 00:00:00+00:00   \n",
       "1  _result     0 2019-01-01 00:00:00+00:00 2019-07-01 00:00:00+00:00   \n",
       "2  _result     0 2019-01-01 00:00:00+00:00 2019-07-01 00:00:00+00:00   \n",
       "3  _result     0 2019-01-01 00:00:00+00:00 2019-07-01 00:00:00+00:00   \n",
       "4  _result     0 2019-01-01 00:00:00+00:00 2019-07-01 00:00:00+00:00   \n",
       "5  _result     0 2019-01-01 00:00:00+00:00 2019-07-01 00:00:00+00:00   \n",
       "\n",
       "                      _time     _value  _field _measurement location  \n",
       "0 2019-02-01 00:00:00+00:00  10.196774  TMEDIA  temperature   coruña  \n",
       "1 2019-03-01 00:00:00+00:00  12.800000  TMEDIA  temperature   coruña  \n",
       "2 2019-04-01 00:00:00+00:00  12.790323  TMEDIA  temperature   coruña  \n",
       "3 2019-05-01 00:00:00+00:00  12.990000  TMEDIA  temperature   coruña  \n",
       "4 2019-06-01 00:00:00+00:00  15.493548  TMEDIA  temperature   coruña  \n",
       "5 2019-07-01 00:00:00+00:00  16.553333  TMEDIA  temperature   coruña  "
      ]
     },
     "execution_count": 375,
     "metadata": {},
     "output_type": "execute_result"
    }
   ],
   "source": [
    "# SOLUCIÓN\n",
    "\n",
    "query = (\n",
    "f'from(bucket: \"{bucket}\")'\n",
    "'  |> range(start: 2019-01-01T00:00:00Z, stop: 2019-07-01T00:00:00Z)'\n",
    "'  |> filter(fn: (r) => r.location == \"coruña\" and r._measurement == \"temperature\" and r._field == \"TMEDIA\")'\n",
    "'  |> aggregateWindow(every: 1mo, fn: mean)'\n",
    ")\n",
    "\n",
    "df = query_api.query_data_frame(query, org=org)\n",
    "df"
   ]
  },
  {
   "cell_type": "markdown",
   "metadata": {},
   "source": [
    "Resultado esperado:\n",
    "\n",
    "|    | result   |   table | _start                    | _stop                     | _time                     |   _value | _field   | _measurement   | location   |\n",
    "|---:|:---------|--------:|:--------------------------|:--------------------------|:--------------------------|---------:|:---------|:---------------|:-----------|\n",
    "|  0 | _result  |       0 | 2019-01-01 00:00:00+00:00 | 2019-07-01 00:00:00+00:00 | 2019-02-01 00:00:00+00:00 |  10.1968 | TMEDIA   | temperature    | coruña     |\n",
    "|  1 | _result  |       0 | 2019-01-01 00:00:00+00:00 | 2019-07-01 00:00:00+00:00 | 2019-03-01 00:00:00+00:00 |  12.8    | TMEDIA   | temperature    | coruña     |\n",
    "|  2 | _result  |       0 | 2019-01-01 00:00:00+00:00 | 2019-07-01 00:00:00+00:00 | 2019-04-01 00:00:00+00:00 |  12.7903 | TMEDIA   | temperature    | coruña     |\n",
    "|  3 | _result  |       0 | 2019-01-01 00:00:00+00:00 | 2019-07-01 00:00:00+00:00 | 2019-05-01 00:00:00+00:00 |  12.99   | TMEDIA   | temperature    | coruña     |\n",
    "|  4 | _result  |       0 | 2019-01-01 00:00:00+00:00 | 2019-07-01 00:00:00+00:00 | 2019-06-01 00:00:00+00:00 |  15.4935 | TMEDIA   | temperature    | coruña     |\n",
    "|  5 | _result  |       0 | 2019-01-01 00:00:00+00:00 | 2019-07-01 00:00:00+00:00 | 2019-07-01 00:00:00+00:00 |  16.5533 | TMEDIA   | temperature    | coruña     |\n"
   ]
  },
  {
   "cell_type": "markdown",
   "metadata": {},
   "source": [
    "<div style=\"text-align: right\"><font size=4> <i class=\"fa fa-check-square-o\" aria-hidden=\"true\" style=\"color:#00586D\"></i></font></div>\n",
    "\n",
    "--- "
   ]
  },
  {
   "cell_type": "markdown",
   "metadata": {},
   "source": [
    "\n",
    "\n",
    "<div style=\"text-align: right\"> <font size=6><i class=\"fa fa-coffee\" aria-hidden=\"true\" style=\"color:#00586D\"></i> </font></div>"
   ]
  }
 ],
 "metadata": {
  "kernelspec": {
   "display_name": "venv",
   "language": "python",
   "name": "python3"
  },
  "language_info": {
   "codemirror_mode": {
    "name": "ipython",
    "version": 3
   },
   "file_extension": ".py",
   "mimetype": "text/x-python",
   "name": "python",
   "nbconvert_exporter": "python",
   "pygments_lexer": "ipython3",
   "version": "3.8.10"
  },
  "vscode": {
   "interpreter": {
    "hash": "fd0b7fb1aa8ed33c3bb66c7cc7f02933d028711f57bb3cecf1b1784d25c60cda"
   }
  }
 },
 "nbformat": 4,
 "nbformat_minor": 4
}
